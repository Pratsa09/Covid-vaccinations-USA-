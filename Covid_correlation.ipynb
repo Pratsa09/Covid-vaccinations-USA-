{
  "nbformat": 4,
  "nbformat_minor": 0,
  "metadata": {
    "colab": {
      "name": "Covid_correlation.ipynb",
      "provenance": [],
      "collapsed_sections": []
    },
    "kernelspec": {
      "name": "python3",
      "display_name": "Python 3"
    },
    "language_info": {
      "name": "python"
    },
    "accelerator": "GPU"
  },
  "cells": [
    {
      "cell_type": "code",
      "metadata": {
        "id": "L6su4zV6q1tE"
      },
      "source": [
        "import pandas as pd\n",
        "import numpy as np\n",
        "import matplotlib.pyplot as plt\n"
      ],
      "execution_count": null,
      "outputs": []
    },
    {
      "cell_type": "code",
      "metadata": {
        "id": "F4yjrYk0rByf"
      },
      "source": [
        "# https://www.statista.com/statistics/184691/internet-usage-in-the-us-by-state/\n",
        "# https://www.statista.com/statistics/221454/share-of-religious-americans-by-state/"
      ],
      "execution_count": null,
      "outputs": []
    },
    {
      "cell_type": "code",
      "metadata": {
        "id": "X7aFnynru651"
      },
      "source": [
        "df = pd.read_csv('internet_penetration.csv')\n",
        "# Less than 80% is zero.\n",
        "# more than 80% is 1. "
      ],
      "execution_count": null,
      "outputs": []
    },
    {
      "cell_type": "code",
      "metadata": {
        "colab": {
          "base_uri": "https://localhost:8080/",
          "height": 206
        },
        "id": "O3lo9q1U0-Qs",
        "outputId": "35d6757e-8dfe-4894-8e12-2883b2208a98"
      },
      "source": [
        "df.head()"
      ],
      "execution_count": null,
      "outputs": [
        {
          "output_type": "execute_result",
          "data": {
            "text/html": [
              "<div>\n",
              "<style scoped>\n",
              "    .dataframe tbody tr th:only-of-type {\n",
              "        vertical-align: middle;\n",
              "    }\n",
              "\n",
              "    .dataframe tbody tr th {\n",
              "        vertical-align: top;\n",
              "    }\n",
              "\n",
              "    .dataframe thead th {\n",
              "        text-align: right;\n",
              "    }\n",
              "</style>\n",
              "<table border=\"1\" class=\"dataframe\">\n",
              "  <thead>\n",
              "    <tr style=\"text-align: right;\">\n",
              "      <th></th>\n",
              "      <th>State</th>\n",
              "      <th>Internet penetration</th>\n",
              "    </tr>\n",
              "  </thead>\n",
              "  <tbody>\n",
              "    <tr>\n",
              "      <th>0</th>\n",
              "      <td>Alabama</td>\n",
              "      <td>1</td>\n",
              "    </tr>\n",
              "    <tr>\n",
              "      <th>1</th>\n",
              "      <td>Alaska</td>\n",
              "      <td>0</td>\n",
              "    </tr>\n",
              "    <tr>\n",
              "      <th>2</th>\n",
              "      <td>Arizona</td>\n",
              "      <td>1</td>\n",
              "    </tr>\n",
              "    <tr>\n",
              "      <th>3</th>\n",
              "      <td>Arkansas</td>\n",
              "      <td>1</td>\n",
              "    </tr>\n",
              "    <tr>\n",
              "      <th>4</th>\n",
              "      <td>California</td>\n",
              "      <td>0</td>\n",
              "    </tr>\n",
              "  </tbody>\n",
              "</table>\n",
              "</div>"
            ],
            "text/plain": [
              "        State  Internet penetration\n",
              "0     Alabama                     1\n",
              "1      Alaska                     0\n",
              "2     Arizona                     1\n",
              "3    Arkansas                     1\n",
              "4  California                     0"
            ]
          },
          "metadata": {},
          "execution_count": 4
        }
      ]
    },
    {
      "cell_type": "code",
      "metadata": {
        "id": "o61XSrGt1DX_"
      },
      "source": [
        "df1 = pd.read_csv('political_affiliation_statewise.csv')"
      ],
      "execution_count": null,
      "outputs": []
    },
    {
      "cell_type": "code",
      "metadata": {
        "colab": {
          "base_uri": "https://localhost:8080/",
          "height": 206
        },
        "id": "7R7a9Wzt1rnb",
        "outputId": "864c80f7-3aea-48a7-ff9b-703bfa5fa521"
      },
      "source": [
        "df1.head()"
      ],
      "execution_count": null,
      "outputs": [
        {
          "output_type": "execute_result",
          "data": {
            "text/html": [
              "<div>\n",
              "<style scoped>\n",
              "    .dataframe tbody tr th:only-of-type {\n",
              "        vertical-align: middle;\n",
              "    }\n",
              "\n",
              "    .dataframe tbody tr th {\n",
              "        vertical-align: top;\n",
              "    }\n",
              "\n",
              "    .dataframe thead th {\n",
              "        text-align: right;\n",
              "    }\n",
              "</style>\n",
              "<table border=\"1\" class=\"dataframe\">\n",
              "  <thead>\n",
              "    <tr style=\"text-align: right;\">\n",
              "      <th></th>\n",
              "      <th>State</th>\n",
              "      <th>Governor Political Affiliation</th>\n",
              "    </tr>\n",
              "  </thead>\n",
              "  <tbody>\n",
              "    <tr>\n",
              "      <th>0</th>\n",
              "      <td>Alabama</td>\n",
              "      <td>0</td>\n",
              "    </tr>\n",
              "    <tr>\n",
              "      <th>1</th>\n",
              "      <td>Alaska</td>\n",
              "      <td>0</td>\n",
              "    </tr>\n",
              "    <tr>\n",
              "      <th>2</th>\n",
              "      <td>Arizona</td>\n",
              "      <td>0</td>\n",
              "    </tr>\n",
              "    <tr>\n",
              "      <th>3</th>\n",
              "      <td>Arkansas</td>\n",
              "      <td>0</td>\n",
              "    </tr>\n",
              "    <tr>\n",
              "      <th>4</th>\n",
              "      <td>California</td>\n",
              "      <td>1</td>\n",
              "    </tr>\n",
              "  </tbody>\n",
              "</table>\n",
              "</div>"
            ],
            "text/plain": [
              "        State  Governor Political Affiliation\n",
              "0     Alabama                               0\n",
              "1      Alaska                               0\n",
              "2     Arizona                               0\n",
              "3    Arkansas                               0\n",
              "4  California                               1"
            ]
          },
          "metadata": {},
          "execution_count": 6
        }
      ]
    },
    {
      "cell_type": "code",
      "metadata": {
        "id": "cugaKNiw1tGZ"
      },
      "source": [
        "df_merge = pd.merge(df,df1, on = 'State')"
      ],
      "execution_count": null,
      "outputs": []
    },
    {
      "cell_type": "code",
      "metadata": {
        "colab": {
          "base_uri": "https://localhost:8080/",
          "height": 206
        },
        "id": "DfFaUbqB16vD",
        "outputId": "848a720d-edd9-4497-c0ae-7f40d4b14930"
      },
      "source": [
        "df_merge.head()"
      ],
      "execution_count": null,
      "outputs": [
        {
          "output_type": "execute_result",
          "data": {
            "text/html": [
              "<div>\n",
              "<style scoped>\n",
              "    .dataframe tbody tr th:only-of-type {\n",
              "        vertical-align: middle;\n",
              "    }\n",
              "\n",
              "    .dataframe tbody tr th {\n",
              "        vertical-align: top;\n",
              "    }\n",
              "\n",
              "    .dataframe thead th {\n",
              "        text-align: right;\n",
              "    }\n",
              "</style>\n",
              "<table border=\"1\" class=\"dataframe\">\n",
              "  <thead>\n",
              "    <tr style=\"text-align: right;\">\n",
              "      <th></th>\n",
              "      <th>State</th>\n",
              "      <th>Internet penetration</th>\n",
              "      <th>Governor Political Affiliation</th>\n",
              "    </tr>\n",
              "  </thead>\n",
              "  <tbody>\n",
              "    <tr>\n",
              "      <th>0</th>\n",
              "      <td>Alabama</td>\n",
              "      <td>1</td>\n",
              "      <td>0</td>\n",
              "    </tr>\n",
              "    <tr>\n",
              "      <th>1</th>\n",
              "      <td>Alaska</td>\n",
              "      <td>0</td>\n",
              "      <td>0</td>\n",
              "    </tr>\n",
              "    <tr>\n",
              "      <th>2</th>\n",
              "      <td>Arizona</td>\n",
              "      <td>1</td>\n",
              "      <td>0</td>\n",
              "    </tr>\n",
              "    <tr>\n",
              "      <th>3</th>\n",
              "      <td>Arkansas</td>\n",
              "      <td>1</td>\n",
              "      <td>0</td>\n",
              "    </tr>\n",
              "    <tr>\n",
              "      <th>4</th>\n",
              "      <td>California</td>\n",
              "      <td>0</td>\n",
              "      <td>1</td>\n",
              "    </tr>\n",
              "  </tbody>\n",
              "</table>\n",
              "</div>"
            ],
            "text/plain": [
              "        State  Internet penetration  Governor Political Affiliation\n",
              "0     Alabama                     1                               0\n",
              "1      Alaska                     0                               0\n",
              "2     Arizona                     1                               0\n",
              "3    Arkansas                     1                               0\n",
              "4  California                     0                               1"
            ]
          },
          "metadata": {},
          "execution_count": 8
        }
      ]
    },
    {
      "cell_type": "code",
      "metadata": {
        "id": "PYqWyJV8182A"
      },
      "source": [
        "# Republican is zero.\n",
        "# Democrat is 1 . "
      ],
      "execution_count": null,
      "outputs": []
    },
    {
      "cell_type": "code",
      "metadata": {
        "id": "s91MQg8C3dnN"
      },
      "source": [
        "df2 = pd.read_csv('Race_demographics_statewise.csv')"
      ],
      "execution_count": null,
      "outputs": []
    },
    {
      "cell_type": "code",
      "metadata": {
        "colab": {
          "base_uri": "https://localhost:8080/",
          "height": 206
        },
        "id": "OPoMF0wC3qRt",
        "outputId": "31d3a85d-eedc-468c-a07d-a831074421bf"
      },
      "source": [
        "df2.head()"
      ],
      "execution_count": null,
      "outputs": [
        {
          "output_type": "execute_result",
          "data": {
            "text/html": [
              "<div>\n",
              "<style scoped>\n",
              "    .dataframe tbody tr th:only-of-type {\n",
              "        vertical-align: middle;\n",
              "    }\n",
              "\n",
              "    .dataframe tbody tr th {\n",
              "        vertical-align: top;\n",
              "    }\n",
              "\n",
              "    .dataframe thead th {\n",
              "        text-align: right;\n",
              "    }\n",
              "</style>\n",
              "<table border=\"1\" class=\"dataframe\">\n",
              "  <thead>\n",
              "    <tr style=\"text-align: right;\">\n",
              "      <th></th>\n",
              "      <th>State</th>\n",
              "      <th>WhiteTotalPerc</th>\n",
              "      <th>BlackTotalPerc</th>\n",
              "      <th>IndianTotalPerc</th>\n",
              "      <th>AsianTotalPerc</th>\n",
              "      <th>HawaiianTotalPerc</th>\n",
              "      <th>OtherTotalPerc</th>\n",
              "    </tr>\n",
              "  </thead>\n",
              "  <tbody>\n",
              "    <tr>\n",
              "      <th>0</th>\n",
              "      <td>Alabama</td>\n",
              "      <td>0.6809</td>\n",
              "      <td>0.2664</td>\n",
              "      <td>0.0052</td>\n",
              "      <td>0.0136</td>\n",
              "      <td>0.0005</td>\n",
              "      <td>0.0334</td>\n",
              "    </tr>\n",
              "    <tr>\n",
              "      <th>1</th>\n",
              "      <td>Alaska</td>\n",
              "      <td>0.6458</td>\n",
              "      <td>0.0328</td>\n",
              "      <td>0.1489</td>\n",
              "      <td>0.0623</td>\n",
              "      <td>0.0125</td>\n",
              "      <td>0.0976</td>\n",
              "    </tr>\n",
              "    <tr>\n",
              "      <th>2</th>\n",
              "      <td>Arizona</td>\n",
              "      <td>0.7722</td>\n",
              "      <td>0.0450</td>\n",
              "      <td>0.0450</td>\n",
              "      <td>0.0331</td>\n",
              "      <td>0.0021</td>\n",
              "      <td>0.1026</td>\n",
              "    </tr>\n",
              "    <tr>\n",
              "      <th>3</th>\n",
              "      <td>Arkansas</td>\n",
              "      <td>0.7672</td>\n",
              "      <td>0.1532</td>\n",
              "      <td>0.0068</td>\n",
              "      <td>0.0152</td>\n",
              "      <td>0.0029</td>\n",
              "      <td>0.0547</td>\n",
              "    </tr>\n",
              "    <tr>\n",
              "      <th>4</th>\n",
              "      <td>California</td>\n",
              "      <td>0.5970</td>\n",
              "      <td>0.0579</td>\n",
              "      <td>0.0077</td>\n",
              "      <td>0.1449</td>\n",
              "      <td>0.0040</td>\n",
              "      <td>0.1885</td>\n",
              "    </tr>\n",
              "  </tbody>\n",
              "</table>\n",
              "</div>"
            ],
            "text/plain": [
              "        State  WhiteTotalPerc  ...  HawaiianTotalPerc  OtherTotalPerc\n",
              "0     Alabama          0.6809  ...             0.0005          0.0334\n",
              "1      Alaska          0.6458  ...             0.0125          0.0976\n",
              "2     Arizona          0.7722  ...             0.0021          0.1026\n",
              "3    Arkansas          0.7672  ...             0.0029          0.0547\n",
              "4  California          0.5970  ...             0.0040          0.1885\n",
              "\n",
              "[5 rows x 7 columns]"
            ]
          },
          "metadata": {},
          "execution_count": 11
        }
      ]
    },
    {
      "cell_type": "code",
      "metadata": {
        "id": "D90LmPPS3sKV"
      },
      "source": [
        "df_merge_2 = pd.merge(df_merge,df2, on = 'State')"
      ],
      "execution_count": null,
      "outputs": []
    },
    {
      "cell_type": "code",
      "metadata": {
        "colab": {
          "base_uri": "https://localhost:8080/",
          "height": 261
        },
        "id": "oLE6eKJ237V9",
        "outputId": "9995cacb-c8f7-403d-bebf-36fb417e24ac"
      },
      "source": [
        "df_merge_2.head()"
      ],
      "execution_count": null,
      "outputs": [
        {
          "output_type": "execute_result",
          "data": {
            "text/html": [
              "<div>\n",
              "<style scoped>\n",
              "    .dataframe tbody tr th:only-of-type {\n",
              "        vertical-align: middle;\n",
              "    }\n",
              "\n",
              "    .dataframe tbody tr th {\n",
              "        vertical-align: top;\n",
              "    }\n",
              "\n",
              "    .dataframe thead th {\n",
              "        text-align: right;\n",
              "    }\n",
              "</style>\n",
              "<table border=\"1\" class=\"dataframe\">\n",
              "  <thead>\n",
              "    <tr style=\"text-align: right;\">\n",
              "      <th></th>\n",
              "      <th>State</th>\n",
              "      <th>Internet penetration</th>\n",
              "      <th>Governor Political Affiliation</th>\n",
              "      <th>WhiteTotalPerc</th>\n",
              "      <th>BlackTotalPerc</th>\n",
              "      <th>IndianTotalPerc</th>\n",
              "      <th>AsianTotalPerc</th>\n",
              "      <th>HawaiianTotalPerc</th>\n",
              "      <th>OtherTotalPerc</th>\n",
              "    </tr>\n",
              "  </thead>\n",
              "  <tbody>\n",
              "    <tr>\n",
              "      <th>0</th>\n",
              "      <td>Alabama</td>\n",
              "      <td>1</td>\n",
              "      <td>0</td>\n",
              "      <td>0.6809</td>\n",
              "      <td>0.2664</td>\n",
              "      <td>0.0052</td>\n",
              "      <td>0.0136</td>\n",
              "      <td>0.0005</td>\n",
              "      <td>0.0334</td>\n",
              "    </tr>\n",
              "    <tr>\n",
              "      <th>1</th>\n",
              "      <td>Alaska</td>\n",
              "      <td>0</td>\n",
              "      <td>0</td>\n",
              "      <td>0.6458</td>\n",
              "      <td>0.0328</td>\n",
              "      <td>0.1489</td>\n",
              "      <td>0.0623</td>\n",
              "      <td>0.0125</td>\n",
              "      <td>0.0976</td>\n",
              "    </tr>\n",
              "    <tr>\n",
              "      <th>2</th>\n",
              "      <td>Arizona</td>\n",
              "      <td>1</td>\n",
              "      <td>0</td>\n",
              "      <td>0.7722</td>\n",
              "      <td>0.0450</td>\n",
              "      <td>0.0450</td>\n",
              "      <td>0.0331</td>\n",
              "      <td>0.0021</td>\n",
              "      <td>0.1026</td>\n",
              "    </tr>\n",
              "    <tr>\n",
              "      <th>3</th>\n",
              "      <td>Arkansas</td>\n",
              "      <td>1</td>\n",
              "      <td>0</td>\n",
              "      <td>0.7672</td>\n",
              "      <td>0.1532</td>\n",
              "      <td>0.0068</td>\n",
              "      <td>0.0152</td>\n",
              "      <td>0.0029</td>\n",
              "      <td>0.0547</td>\n",
              "    </tr>\n",
              "    <tr>\n",
              "      <th>4</th>\n",
              "      <td>California</td>\n",
              "      <td>0</td>\n",
              "      <td>1</td>\n",
              "      <td>0.5970</td>\n",
              "      <td>0.0579</td>\n",
              "      <td>0.0077</td>\n",
              "      <td>0.1449</td>\n",
              "      <td>0.0040</td>\n",
              "      <td>0.1885</td>\n",
              "    </tr>\n",
              "  </tbody>\n",
              "</table>\n",
              "</div>"
            ],
            "text/plain": [
              "        State  Internet penetration  ...  HawaiianTotalPerc  OtherTotalPerc\n",
              "0     Alabama                     1  ...             0.0005          0.0334\n",
              "1      Alaska                     0  ...             0.0125          0.0976\n",
              "2     Arizona                     1  ...             0.0021          0.1026\n",
              "3    Arkansas                     1  ...             0.0029          0.0547\n",
              "4  California                     0  ...             0.0040          0.1885\n",
              "\n",
              "[5 rows x 9 columns]"
            ]
          },
          "metadata": {},
          "execution_count": 13
        }
      ]
    },
    {
      "cell_type": "code",
      "metadata": {
        "id": "UzpS9gUc399S"
      },
      "source": [
        "df3 = pd.read_csv('Religion_by_state.csv')\n",
        "# less than 50 is zero..highly religious\n",
        "# more than 50 is 1 ..moderate to low on religion"
      ],
      "execution_count": null,
      "outputs": []
    },
    {
      "cell_type": "code",
      "metadata": {
        "colab": {
          "base_uri": "https://localhost:8080/",
          "height": 206
        },
        "id": "ho4wcjFV4Z1y",
        "outputId": "7d7a8e7f-f0a6-4d30-a5b6-fc833a83cce4"
      },
      "source": [
        "df3.head()"
      ],
      "execution_count": null,
      "outputs": [
        {
          "output_type": "execute_result",
          "data": {
            "text/html": [
              "<div>\n",
              "<style scoped>\n",
              "    .dataframe tbody tr th:only-of-type {\n",
              "        vertical-align: middle;\n",
              "    }\n",
              "\n",
              "    .dataframe tbody tr th {\n",
              "        vertical-align: top;\n",
              "    }\n",
              "\n",
              "    .dataframe thead th {\n",
              "        text-align: right;\n",
              "    }\n",
              "</style>\n",
              "<table border=\"1\" class=\"dataframe\">\n",
              "  <thead>\n",
              "    <tr style=\"text-align: right;\">\n",
              "      <th></th>\n",
              "      <th>State</th>\n",
              "      <th>Strength of Religion</th>\n",
              "    </tr>\n",
              "  </thead>\n",
              "  <tbody>\n",
              "    <tr>\n",
              "      <th>0</th>\n",
              "      <td>Alabama</td>\n",
              "      <td>1</td>\n",
              "    </tr>\n",
              "    <tr>\n",
              "      <th>1</th>\n",
              "      <td>Alaska</td>\n",
              "      <td>0</td>\n",
              "    </tr>\n",
              "    <tr>\n",
              "      <th>2</th>\n",
              "      <td>Arizona</td>\n",
              "      <td>0</td>\n",
              "    </tr>\n",
              "    <tr>\n",
              "      <th>3</th>\n",
              "      <td>Arkansas</td>\n",
              "      <td>1</td>\n",
              "    </tr>\n",
              "    <tr>\n",
              "      <th>4</th>\n",
              "      <td>California</td>\n",
              "      <td>0</td>\n",
              "    </tr>\n",
              "  </tbody>\n",
              "</table>\n",
              "</div>"
            ],
            "text/plain": [
              "        State  Strength of Religion\n",
              "0     Alabama                     1\n",
              "1      Alaska                     0\n",
              "2     Arizona                     0\n",
              "3    Arkansas                     1\n",
              "4  California                     0"
            ]
          },
          "metadata": {},
          "execution_count": 15
        }
      ]
    },
    {
      "cell_type": "code",
      "metadata": {
        "id": "iaF-Xt2B4s1d"
      },
      "source": [
        "df_merge_3 = pd.merge(df_merge_2,df3, on = 'State')"
      ],
      "execution_count": null,
      "outputs": []
    },
    {
      "cell_type": "code",
      "metadata": {
        "colab": {
          "base_uri": "https://localhost:8080/",
          "height": 261
        },
        "id": "zOY_tXx-5JbP",
        "outputId": "98c08152-541d-46e0-896f-9028a2c69fac"
      },
      "source": [
        "df_merge_3.head()"
      ],
      "execution_count": null,
      "outputs": [
        {
          "output_type": "execute_result",
          "data": {
            "text/html": [
              "<div>\n",
              "<style scoped>\n",
              "    .dataframe tbody tr th:only-of-type {\n",
              "        vertical-align: middle;\n",
              "    }\n",
              "\n",
              "    .dataframe tbody tr th {\n",
              "        vertical-align: top;\n",
              "    }\n",
              "\n",
              "    .dataframe thead th {\n",
              "        text-align: right;\n",
              "    }\n",
              "</style>\n",
              "<table border=\"1\" class=\"dataframe\">\n",
              "  <thead>\n",
              "    <tr style=\"text-align: right;\">\n",
              "      <th></th>\n",
              "      <th>State</th>\n",
              "      <th>Internet penetration</th>\n",
              "      <th>Governor Political Affiliation</th>\n",
              "      <th>WhiteTotalPerc</th>\n",
              "      <th>BlackTotalPerc</th>\n",
              "      <th>IndianTotalPerc</th>\n",
              "      <th>AsianTotalPerc</th>\n",
              "      <th>HawaiianTotalPerc</th>\n",
              "      <th>OtherTotalPerc</th>\n",
              "      <th>Strength of Religion</th>\n",
              "    </tr>\n",
              "  </thead>\n",
              "  <tbody>\n",
              "    <tr>\n",
              "      <th>0</th>\n",
              "      <td>Alabama</td>\n",
              "      <td>1</td>\n",
              "      <td>0</td>\n",
              "      <td>0.6809</td>\n",
              "      <td>0.2664</td>\n",
              "      <td>0.0052</td>\n",
              "      <td>0.0136</td>\n",
              "      <td>0.0005</td>\n",
              "      <td>0.0334</td>\n",
              "      <td>1</td>\n",
              "    </tr>\n",
              "    <tr>\n",
              "      <th>1</th>\n",
              "      <td>Alaska</td>\n",
              "      <td>0</td>\n",
              "      <td>0</td>\n",
              "      <td>0.6458</td>\n",
              "      <td>0.0328</td>\n",
              "      <td>0.1489</td>\n",
              "      <td>0.0623</td>\n",
              "      <td>0.0125</td>\n",
              "      <td>0.0976</td>\n",
              "      <td>0</td>\n",
              "    </tr>\n",
              "    <tr>\n",
              "      <th>2</th>\n",
              "      <td>Arizona</td>\n",
              "      <td>1</td>\n",
              "      <td>0</td>\n",
              "      <td>0.7722</td>\n",
              "      <td>0.0450</td>\n",
              "      <td>0.0450</td>\n",
              "      <td>0.0331</td>\n",
              "      <td>0.0021</td>\n",
              "      <td>0.1026</td>\n",
              "      <td>0</td>\n",
              "    </tr>\n",
              "    <tr>\n",
              "      <th>3</th>\n",
              "      <td>Arkansas</td>\n",
              "      <td>1</td>\n",
              "      <td>0</td>\n",
              "      <td>0.7672</td>\n",
              "      <td>0.1532</td>\n",
              "      <td>0.0068</td>\n",
              "      <td>0.0152</td>\n",
              "      <td>0.0029</td>\n",
              "      <td>0.0547</td>\n",
              "      <td>1</td>\n",
              "    </tr>\n",
              "    <tr>\n",
              "      <th>4</th>\n",
              "      <td>California</td>\n",
              "      <td>0</td>\n",
              "      <td>1</td>\n",
              "      <td>0.5970</td>\n",
              "      <td>0.0579</td>\n",
              "      <td>0.0077</td>\n",
              "      <td>0.1449</td>\n",
              "      <td>0.0040</td>\n",
              "      <td>0.1885</td>\n",
              "      <td>0</td>\n",
              "    </tr>\n",
              "  </tbody>\n",
              "</table>\n",
              "</div>"
            ],
            "text/plain": [
              "        State  Internet penetration  ...  OtherTotalPerc  Strength of Religion\n",
              "0     Alabama                     1  ...          0.0334                     1\n",
              "1      Alaska                     0  ...          0.0976                     0\n",
              "2     Arizona                     1  ...          0.1026                     0\n",
              "3    Arkansas                     1  ...          0.0547                     1\n",
              "4  California                     0  ...          0.1885                     0\n",
              "\n",
              "[5 rows x 10 columns]"
            ]
          },
          "metadata": {},
          "execution_count": 17
        }
      ]
    },
    {
      "cell_type": "code",
      "metadata": {
        "id": "8zVn55mr5L7A"
      },
      "source": [
        "df4 = pd.read_csv('vaccines_by_state.csv')"
      ],
      "execution_count": null,
      "outputs": []
    },
    {
      "cell_type": "code",
      "metadata": {
        "colab": {
          "base_uri": "https://localhost:8080/",
          "height": 310
        },
        "id": "VdZhk20U632V",
        "outputId": "90f49498-de7e-4375-873e-b5eae222d7ca"
      },
      "source": [
        "df4.head()"
      ],
      "execution_count": null,
      "outputs": [
        {
          "output_type": "execute_result",
          "data": {
            "text/html": [
              "<div>\n",
              "<style scoped>\n",
              "    .dataframe tbody tr th:only-of-type {\n",
              "        vertical-align: middle;\n",
              "    }\n",
              "\n",
              "    .dataframe tbody tr th {\n",
              "        vertical-align: top;\n",
              "    }\n",
              "\n",
              "    .dataframe thead th {\n",
              "        text-align: right;\n",
              "    }\n",
              "</style>\n",
              "<table border=\"1\" class=\"dataframe\">\n",
              "  <thead>\n",
              "    <tr style=\"text-align: right;\">\n",
              "      <th></th>\n",
              "      <th>State</th>\n",
              "      <th>Total COVID-19 Vaccines Delivered</th>\n",
              "      <th>Total COVID-19 Vaccines Administered</th>\n",
              "      <th>Share of Delivered Vaccines That Have Been Administered</th>\n",
              "      <th>Number of People Who Have Been Vaccinated with At Least One Dose</th>\n",
              "      <th>Share of Population Vaccinated with At Least One Dose</th>\n",
              "      <th>Number of People Who Have Been Fully Vaccinated</th>\n",
              "      <th>Share of Population Fully Vaccinated</th>\n",
              "    </tr>\n",
              "  </thead>\n",
              "  <tbody>\n",
              "    <tr>\n",
              "      <th>0</th>\n",
              "      <td>Alabama</td>\n",
              "      <td>68,84,990</td>\n",
              "      <td>46,60,146</td>\n",
              "      <td>0.677</td>\n",
              "      <td>26,17,643</td>\n",
              "      <td>0.534</td>\n",
              "      <td>21,40,724</td>\n",
              "      <td>0.437</td>\n",
              "    </tr>\n",
              "    <tr>\n",
              "      <th>1</th>\n",
              "      <td>Alaska</td>\n",
              "      <td>10,95,895</td>\n",
              "      <td>8,18,386</td>\n",
              "      <td>0.747</td>\n",
              "      <td>4,24,831</td>\n",
              "      <td>0.581</td>\n",
              "      <td>3,75,482</td>\n",
              "      <td>0.513</td>\n",
              "    </tr>\n",
              "    <tr>\n",
              "      <th>2</th>\n",
              "      <td>Arizona</td>\n",
              "      <td>1,01,86,170</td>\n",
              "      <td>84,44,747</td>\n",
              "      <td>0.829</td>\n",
              "      <td>43,74,569</td>\n",
              "      <td>0.601</td>\n",
              "      <td>37,82,723</td>\n",
              "      <td>0.520</td>\n",
              "    </tr>\n",
              "    <tr>\n",
              "      <th>3</th>\n",
              "      <td>Arkansas</td>\n",
              "      <td>41,85,410</td>\n",
              "      <td>31,12,886</td>\n",
              "      <td>0.744</td>\n",
              "      <td>17,03,875</td>\n",
              "      <td>0.565</td>\n",
              "      <td>14,04,192</td>\n",
              "      <td>0.465</td>\n",
              "    </tr>\n",
              "    <tr>\n",
              "      <th>4</th>\n",
              "      <td>California</td>\n",
              "      <td>6,00,28,915</td>\n",
              "      <td>5,20,71,035</td>\n",
              "      <td>0.867</td>\n",
              "      <td>2,88,21,336</td>\n",
              "      <td>0.729</td>\n",
              "      <td>2,37,05,877</td>\n",
              "      <td>0.600</td>\n",
              "    </tr>\n",
              "  </tbody>\n",
              "</table>\n",
              "</div>"
            ],
            "text/plain": [
              "        State  ... Share of Population Fully Vaccinated\n",
              "0     Alabama  ...                                0.437\n",
              "1      Alaska  ...                                0.513\n",
              "2     Arizona  ...                                0.520\n",
              "3    Arkansas  ...                                0.465\n",
              "4  California  ...                                0.600\n",
              "\n",
              "[5 rows x 8 columns]"
            ]
          },
          "metadata": {},
          "execution_count": 19
        }
      ]
    },
    {
      "cell_type": "code",
      "metadata": {
        "id": "XwDCsL1r65ks"
      },
      "source": [
        "df_final = pd.merge(df_merge_3,df4,on = 'State')"
      ],
      "execution_count": null,
      "outputs": []
    },
    {
      "cell_type": "code",
      "metadata": {
        "colab": {
          "base_uri": "https://localhost:8080/",
          "height": 330
        },
        "id": "BAtP6gXt7C3M",
        "outputId": "6767bef3-537e-42d1-c11d-4fadc8ff744d"
      },
      "source": [
        "df_final.head()"
      ],
      "execution_count": null,
      "outputs": [
        {
          "output_type": "execute_result",
          "data": {
            "text/html": [
              "<div>\n",
              "<style scoped>\n",
              "    .dataframe tbody tr th:only-of-type {\n",
              "        vertical-align: middle;\n",
              "    }\n",
              "\n",
              "    .dataframe tbody tr th {\n",
              "        vertical-align: top;\n",
              "    }\n",
              "\n",
              "    .dataframe thead th {\n",
              "        text-align: right;\n",
              "    }\n",
              "</style>\n",
              "<table border=\"1\" class=\"dataframe\">\n",
              "  <thead>\n",
              "    <tr style=\"text-align: right;\">\n",
              "      <th></th>\n",
              "      <th>State</th>\n",
              "      <th>Internet penetration</th>\n",
              "      <th>Governor Political Affiliation</th>\n",
              "      <th>WhiteTotalPerc</th>\n",
              "      <th>BlackTotalPerc</th>\n",
              "      <th>IndianTotalPerc</th>\n",
              "      <th>AsianTotalPerc</th>\n",
              "      <th>HawaiianTotalPerc</th>\n",
              "      <th>OtherTotalPerc</th>\n",
              "      <th>Strength of Religion</th>\n",
              "      <th>Total COVID-19 Vaccines Delivered</th>\n",
              "      <th>Total COVID-19 Vaccines Administered</th>\n",
              "      <th>Share of Delivered Vaccines That Have Been Administered</th>\n",
              "      <th>Number of People Who Have Been Vaccinated with At Least One Dose</th>\n",
              "      <th>Share of Population Vaccinated with At Least One Dose</th>\n",
              "      <th>Number of People Who Have Been Fully Vaccinated</th>\n",
              "      <th>Share of Population Fully Vaccinated</th>\n",
              "    </tr>\n",
              "  </thead>\n",
              "  <tbody>\n",
              "    <tr>\n",
              "      <th>0</th>\n",
              "      <td>Alabama</td>\n",
              "      <td>1</td>\n",
              "      <td>0</td>\n",
              "      <td>0.6809</td>\n",
              "      <td>0.2664</td>\n",
              "      <td>0.0052</td>\n",
              "      <td>0.0136</td>\n",
              "      <td>0.0005</td>\n",
              "      <td>0.0334</td>\n",
              "      <td>1</td>\n",
              "      <td>68,84,990</td>\n",
              "      <td>46,60,146</td>\n",
              "      <td>0.677</td>\n",
              "      <td>26,17,643</td>\n",
              "      <td>0.534</td>\n",
              "      <td>21,40,724</td>\n",
              "      <td>0.437</td>\n",
              "    </tr>\n",
              "    <tr>\n",
              "      <th>1</th>\n",
              "      <td>Alaska</td>\n",
              "      <td>0</td>\n",
              "      <td>0</td>\n",
              "      <td>0.6458</td>\n",
              "      <td>0.0328</td>\n",
              "      <td>0.1489</td>\n",
              "      <td>0.0623</td>\n",
              "      <td>0.0125</td>\n",
              "      <td>0.0976</td>\n",
              "      <td>0</td>\n",
              "      <td>10,95,895</td>\n",
              "      <td>8,18,386</td>\n",
              "      <td>0.747</td>\n",
              "      <td>4,24,831</td>\n",
              "      <td>0.581</td>\n",
              "      <td>3,75,482</td>\n",
              "      <td>0.513</td>\n",
              "    </tr>\n",
              "    <tr>\n",
              "      <th>2</th>\n",
              "      <td>Arizona</td>\n",
              "      <td>1</td>\n",
              "      <td>0</td>\n",
              "      <td>0.7722</td>\n",
              "      <td>0.0450</td>\n",
              "      <td>0.0450</td>\n",
              "      <td>0.0331</td>\n",
              "      <td>0.0021</td>\n",
              "      <td>0.1026</td>\n",
              "      <td>0</td>\n",
              "      <td>1,01,86,170</td>\n",
              "      <td>84,44,747</td>\n",
              "      <td>0.829</td>\n",
              "      <td>43,74,569</td>\n",
              "      <td>0.601</td>\n",
              "      <td>37,82,723</td>\n",
              "      <td>0.520</td>\n",
              "    </tr>\n",
              "    <tr>\n",
              "      <th>3</th>\n",
              "      <td>Arkansas</td>\n",
              "      <td>1</td>\n",
              "      <td>0</td>\n",
              "      <td>0.7672</td>\n",
              "      <td>0.1532</td>\n",
              "      <td>0.0068</td>\n",
              "      <td>0.0152</td>\n",
              "      <td>0.0029</td>\n",
              "      <td>0.0547</td>\n",
              "      <td>1</td>\n",
              "      <td>41,85,410</td>\n",
              "      <td>31,12,886</td>\n",
              "      <td>0.744</td>\n",
              "      <td>17,03,875</td>\n",
              "      <td>0.565</td>\n",
              "      <td>14,04,192</td>\n",
              "      <td>0.465</td>\n",
              "    </tr>\n",
              "    <tr>\n",
              "      <th>4</th>\n",
              "      <td>California</td>\n",
              "      <td>0</td>\n",
              "      <td>1</td>\n",
              "      <td>0.5970</td>\n",
              "      <td>0.0579</td>\n",
              "      <td>0.0077</td>\n",
              "      <td>0.1449</td>\n",
              "      <td>0.0040</td>\n",
              "      <td>0.1885</td>\n",
              "      <td>0</td>\n",
              "      <td>6,00,28,915</td>\n",
              "      <td>5,20,71,035</td>\n",
              "      <td>0.867</td>\n",
              "      <td>2,88,21,336</td>\n",
              "      <td>0.729</td>\n",
              "      <td>2,37,05,877</td>\n",
              "      <td>0.600</td>\n",
              "    </tr>\n",
              "  </tbody>\n",
              "</table>\n",
              "</div>"
            ],
            "text/plain": [
              "        State  ...  Share of Population Fully Vaccinated\n",
              "0     Alabama  ...                                 0.437\n",
              "1      Alaska  ...                                 0.513\n",
              "2     Arizona  ...                                 0.520\n",
              "3    Arkansas  ...                                 0.465\n",
              "4  California  ...                                 0.600\n",
              "\n",
              "[5 rows x 17 columns]"
            ]
          },
          "metadata": {},
          "execution_count": 21
        }
      ]
    },
    {
      "cell_type": "code",
      "metadata": {
        "id": "R--eH8If_oHw"
      },
      "source": [
        "df_final.drop(df_final.columns[[6,7,8,10,11,12]], axis = 1, inplace = True)\n",
        "# without unncessary columns"
      ],
      "execution_count": null,
      "outputs": []
    },
    {
      "cell_type": "code",
      "metadata": {
        "colab": {
          "base_uri": "https://localhost:8080/",
          "height": 330
        },
        "id": "0KskRcpP_nn3",
        "outputId": "6582f69a-6a79-43c0-ece0-7c7ce4808a92"
      },
      "source": [
        "df_final.head()"
      ],
      "execution_count": null,
      "outputs": [
        {
          "output_type": "execute_result",
          "data": {
            "text/html": [
              "<div>\n",
              "<style scoped>\n",
              "    .dataframe tbody tr th:only-of-type {\n",
              "        vertical-align: middle;\n",
              "    }\n",
              "\n",
              "    .dataframe tbody tr th {\n",
              "        vertical-align: top;\n",
              "    }\n",
              "\n",
              "    .dataframe thead th {\n",
              "        text-align: right;\n",
              "    }\n",
              "</style>\n",
              "<table border=\"1\" class=\"dataframe\">\n",
              "  <thead>\n",
              "    <tr style=\"text-align: right;\">\n",
              "      <th></th>\n",
              "      <th>State</th>\n",
              "      <th>Internet penetration</th>\n",
              "      <th>Governor Political Affiliation</th>\n",
              "      <th>WhiteTotalPerc</th>\n",
              "      <th>BlackTotalPerc</th>\n",
              "      <th>IndianTotalPerc</th>\n",
              "      <th>Strength of Religion</th>\n",
              "      <th>Number of People Who Have Been Vaccinated with At Least One Dose</th>\n",
              "      <th>Share of Population Vaccinated with At Least One Dose</th>\n",
              "      <th>Number of People Who Have Been Fully Vaccinated</th>\n",
              "      <th>Share of Population Fully Vaccinated</th>\n",
              "    </tr>\n",
              "  </thead>\n",
              "  <tbody>\n",
              "    <tr>\n",
              "      <th>0</th>\n",
              "      <td>Alabama</td>\n",
              "      <td>1</td>\n",
              "      <td>0</td>\n",
              "      <td>0.6809</td>\n",
              "      <td>0.2664</td>\n",
              "      <td>0.0052</td>\n",
              "      <td>1</td>\n",
              "      <td>26,17,643</td>\n",
              "      <td>0.534</td>\n",
              "      <td>21,40,724</td>\n",
              "      <td>0.437</td>\n",
              "    </tr>\n",
              "    <tr>\n",
              "      <th>1</th>\n",
              "      <td>Alaska</td>\n",
              "      <td>0</td>\n",
              "      <td>0</td>\n",
              "      <td>0.6458</td>\n",
              "      <td>0.0328</td>\n",
              "      <td>0.1489</td>\n",
              "      <td>0</td>\n",
              "      <td>4,24,831</td>\n",
              "      <td>0.581</td>\n",
              "      <td>3,75,482</td>\n",
              "      <td>0.513</td>\n",
              "    </tr>\n",
              "    <tr>\n",
              "      <th>2</th>\n",
              "      <td>Arizona</td>\n",
              "      <td>1</td>\n",
              "      <td>0</td>\n",
              "      <td>0.7722</td>\n",
              "      <td>0.0450</td>\n",
              "      <td>0.0450</td>\n",
              "      <td>0</td>\n",
              "      <td>43,74,569</td>\n",
              "      <td>0.601</td>\n",
              "      <td>37,82,723</td>\n",
              "      <td>0.520</td>\n",
              "    </tr>\n",
              "    <tr>\n",
              "      <th>3</th>\n",
              "      <td>Arkansas</td>\n",
              "      <td>1</td>\n",
              "      <td>0</td>\n",
              "      <td>0.7672</td>\n",
              "      <td>0.1532</td>\n",
              "      <td>0.0068</td>\n",
              "      <td>1</td>\n",
              "      <td>17,03,875</td>\n",
              "      <td>0.565</td>\n",
              "      <td>14,04,192</td>\n",
              "      <td>0.465</td>\n",
              "    </tr>\n",
              "    <tr>\n",
              "      <th>4</th>\n",
              "      <td>California</td>\n",
              "      <td>0</td>\n",
              "      <td>1</td>\n",
              "      <td>0.5970</td>\n",
              "      <td>0.0579</td>\n",
              "      <td>0.0077</td>\n",
              "      <td>0</td>\n",
              "      <td>2,88,21,336</td>\n",
              "      <td>0.729</td>\n",
              "      <td>2,37,05,877</td>\n",
              "      <td>0.600</td>\n",
              "    </tr>\n",
              "  </tbody>\n",
              "</table>\n",
              "</div>"
            ],
            "text/plain": [
              "        State  ...  Share of Population Fully Vaccinated\n",
              "0     Alabama  ...                                 0.437\n",
              "1      Alaska  ...                                 0.513\n",
              "2     Arizona  ...                                 0.520\n",
              "3    Arkansas  ...                                 0.465\n",
              "4  California  ...                                 0.600\n",
              "\n",
              "[5 rows x 11 columns]"
            ]
          },
          "metadata": {},
          "execution_count": 23
        }
      ]
    },
    {
      "cell_type": "code",
      "metadata": {
        "id": "xaVOcXYzCOTF"
      },
      "source": [
        "from scipy import stats"
      ],
      "execution_count": null,
      "outputs": []
    },
    {
      "cell_type": "markdown",
      "metadata": {
        "id": "3xEasCrjCiDY"
      },
      "source": [
        "*Point-serial correlation between continuous and categorical variables*"
      ]
    },
    {
      "cell_type": "code",
      "metadata": {
        "colab": {
          "base_uri": "https://localhost:8080/"
        },
        "id": "RA2tMmk0COMm",
        "outputId": "6b8bae81-2e1f-421a-912a-a00bb0e3806f"
      },
      "source": [
        "CATEGORICAL_VARIABLES = [\"Internet penetration\", \n",
        "                       \"Governor Political Affiliation\", \n",
        "                       \"Strength of Religion\", \n",
        "                       \"WhiteTotalPerc\", \n",
        "                       \"BlackTotalPerc\", \n",
        "                       \"IndianTotalPerc\"]\n",
        "\n",
        "for c in CATEGORICAL_VARIABLES:\n",
        "    if c not in [\"Internet penetration\", \"Governor Political Affiliation\", \"Strength of Religion\"]:\n",
        "        correlation = stats.pearsonr(df_final[c], df_final[\"Share of Population Fully Vaccinated\"])\n",
        "    else:\n",
        "        correlation = stats.pointbiserialr(df_final[c], df_final[\"Share of Population Fully Vaccinated\"])\n",
        "    print(\"Correlation of %s to share of population fully vaccinated is %s\" %(c, correlation))"
      ],
      "execution_count": null,
      "outputs": [
        {
          "output_type": "stream",
          "name": "stdout",
          "text": [
            "Correlation of Internet penetration to share of population fully vaccinated is PointbiserialrResult(correlation=0.07679548668479814, pvalue=0.592217522402421)\n",
            "Correlation of Governor Political Affiliation to share of population fully vaccinated is PointbiserialrResult(correlation=0.49700105262145045, pvalue=0.0002073039120343955)\n",
            "Correlation of Strength of Religion to share of population fully vaccinated is PointbiserialrResult(correlation=-0.377756789995258, pvalue=0.006277696577506034)\n",
            "Correlation of WhiteTotalPerc to share of population fully vaccinated is (-0.0637673925843958, 0.6566424345558499)\n",
            "Correlation of BlackTotalPerc to share of population fully vaccinated is (-0.1401896273267333, 0.3264986433082925)\n",
            "Correlation of IndianTotalPerc to share of population fully vaccinated is (-0.15210763547200326, 0.28662650098789044)\n"
          ]
        }
      ]
    },
    {
      "cell_type": "code",
      "metadata": {
        "colab": {
          "base_uri": "https://localhost:8080/",
          "height": 597
        },
        "id": "kzc_nOfvEa6I",
        "outputId": "44306ee6-989a-4108-a1a7-0417d9720605"
      },
      "source": [
        "#df_final.corr()"
      ],
      "execution_count": null,
      "outputs": [
        {
          "output_type": "execute_result",
          "data": {
            "text/html": [
              "<div>\n",
              "<style scoped>\n",
              "    .dataframe tbody tr th:only-of-type {\n",
              "        vertical-align: middle;\n",
              "    }\n",
              "\n",
              "    .dataframe tbody tr th {\n",
              "        vertical-align: top;\n",
              "    }\n",
              "\n",
              "    .dataframe thead th {\n",
              "        text-align: right;\n",
              "    }\n",
              "</style>\n",
              "<table border=\"1\" class=\"dataframe\">\n",
              "  <thead>\n",
              "    <tr style=\"text-align: right;\">\n",
              "      <th></th>\n",
              "      <th>Internet penetration</th>\n",
              "      <th>Governor Political Affiliation</th>\n",
              "      <th>WhiteTotalPerc</th>\n",
              "      <th>BlackTotalPerc</th>\n",
              "      <th>IndianTotalPerc</th>\n",
              "      <th>Strength of Religion</th>\n",
              "      <th>Share of Population Vaccinated with At Least One Dose</th>\n",
              "      <th>Share of Population Fully Vaccinated</th>\n",
              "    </tr>\n",
              "  </thead>\n",
              "  <tbody>\n",
              "    <tr>\n",
              "      <th>Internet penetration</th>\n",
              "      <td>1.000000</td>\n",
              "      <td>-0.134259</td>\n",
              "      <td>0.053104</td>\n",
              "      <td>-0.121198</td>\n",
              "      <td>-0.086196</td>\n",
              "      <td>0.100411</td>\n",
              "      <td>0.041170</td>\n",
              "      <td>0.076795</td>\n",
              "    </tr>\n",
              "    <tr>\n",
              "      <th>Governor Political Affiliation</th>\n",
              "      <td>-0.134259</td>\n",
              "      <td>1.000000</td>\n",
              "      <td>-0.260499</td>\n",
              "      <td>0.047430</td>\n",
              "      <td>-0.205237</td>\n",
              "      <td>-0.222338</td>\n",
              "      <td>0.531339</td>\n",
              "      <td>0.497001</td>\n",
              "    </tr>\n",
              "    <tr>\n",
              "      <th>WhiteTotalPerc</th>\n",
              "      <td>0.053104</td>\n",
              "      <td>-0.260499</td>\n",
              "      <td>1.000000</td>\n",
              "      <td>-0.612182</td>\n",
              "      <td>0.038162</td>\n",
              "      <td>-0.162094</td>\n",
              "      <td>-0.232439</td>\n",
              "      <td>-0.063767</td>\n",
              "    </tr>\n",
              "    <tr>\n",
              "      <th>BlackTotalPerc</th>\n",
              "      <td>-0.121198</td>\n",
              "      <td>0.047430</td>\n",
              "      <td>-0.612182</td>\n",
              "      <td>1.000000</td>\n",
              "      <td>-0.321483</td>\n",
              "      <td>0.415282</td>\n",
              "      <td>-0.093752</td>\n",
              "      <td>-0.140190</td>\n",
              "    </tr>\n",
              "    <tr>\n",
              "      <th>IndianTotalPerc</th>\n",
              "      <td>-0.086196</td>\n",
              "      <td>-0.205237</td>\n",
              "      <td>0.038162</td>\n",
              "      <td>-0.321483</td>\n",
              "      <td>1.000000</td>\n",
              "      <td>-0.128388</td>\n",
              "      <td>-0.159071</td>\n",
              "      <td>-0.152108</td>\n",
              "    </tr>\n",
              "    <tr>\n",
              "      <th>Strength of Religion</th>\n",
              "      <td>0.100411</td>\n",
              "      <td>-0.222338</td>\n",
              "      <td>-0.162094</td>\n",
              "      <td>0.415282</td>\n",
              "      <td>-0.128388</td>\n",
              "      <td>1.000000</td>\n",
              "      <td>-0.343782</td>\n",
              "      <td>-0.377757</td>\n",
              "    </tr>\n",
              "    <tr>\n",
              "      <th>Share of Population Vaccinated with At Least One Dose</th>\n",
              "      <td>0.041170</td>\n",
              "      <td>0.531339</td>\n",
              "      <td>-0.232439</td>\n",
              "      <td>-0.093752</td>\n",
              "      <td>-0.159071</td>\n",
              "      <td>-0.343782</td>\n",
              "      <td>1.000000</td>\n",
              "      <td>0.945006</td>\n",
              "    </tr>\n",
              "    <tr>\n",
              "      <th>Share of Population Fully Vaccinated</th>\n",
              "      <td>0.076795</td>\n",
              "      <td>0.497001</td>\n",
              "      <td>-0.063767</td>\n",
              "      <td>-0.140190</td>\n",
              "      <td>-0.152108</td>\n",
              "      <td>-0.377757</td>\n",
              "      <td>0.945006</td>\n",
              "      <td>1.000000</td>\n",
              "    </tr>\n",
              "  </tbody>\n",
              "</table>\n",
              "</div>"
            ],
            "text/plain": [
              "                                                    Internet penetration  ...  Share of Population Fully Vaccinated\n",
              "Internet penetration                                            1.000000  ...                              0.076795\n",
              "Governor Political Affiliation                                 -0.134259  ...                              0.497001\n",
              "WhiteTotalPerc                                                  0.053104  ...                             -0.063767\n",
              "BlackTotalPerc                                                 -0.121198  ...                             -0.140190\n",
              "IndianTotalPerc                                                -0.086196  ...                             -0.152108\n",
              "Strength of Religion                                            0.100411  ...                             -0.377757\n",
              "Share of Population Vaccinated with At Least On...              0.041170  ...                              0.945006\n",
              "Share of Population Fully Vaccinated                            0.076795  ...                              1.000000\n",
              "\n",
              "[8 rows x 8 columns]"
            ]
          },
          "metadata": {},
          "execution_count": 29
        }
      ]
    },
    {
      "cell_type": "code",
      "metadata": {
        "id": "EXxvBG5g-gRM"
      },
      "source": [
        "#import seaborn as sns"
      ],
      "execution_count": null,
      "outputs": []
    },
    {
      "cell_type": "code",
      "metadata": {
        "id": "I5Z0TDIl74J3"
      },
      "source": [
        "# sns.heatmap(df_final.corr(), cmap='Reds', annot=True)\n",
        "# plt.title('Correlation Matrix');\n"
      ],
      "execution_count": null,
      "outputs": []
    }
  ]
}