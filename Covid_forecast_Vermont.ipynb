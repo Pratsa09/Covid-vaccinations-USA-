{
  "nbformat": 4,
  "nbformat_minor": 0,
  "metadata": {
    "colab": {
      "name": "Covid_forecast_Vermont.ipynb",
      "provenance": [],
      "collapsed_sections": []
    },
    "kernelspec": {
      "name": "python3",
      "display_name": "Python 3"
    },
    "language_info": {
      "name": "python"
    }
  },
  "cells": [
    {
      "cell_type": "code",
      "metadata": {
        "colab": {
          "base_uri": "https://localhost:8080/"
        },
        "id": "mrs2ZLQiIeZe",
        "outputId": "ea3b285e-93b5-4c46-f37f-e9567858605f"
      },
      "source": [
        "!pip install kats"
      ],
      "execution_count": null,
      "outputs": [
        {
          "output_type": "stream",
          "name": "stdout",
          "text": [
            "Collecting kats\n",
            "  Downloading kats-0.1.0.tar.gz (6.3 MB)\n",
            "\u001b[K     |████████████████████████████████| 6.3 MB 4.6 MB/s \n",
            "\u001b[?25hRequirement already satisfied: LunarCalendar>=0.0.9 in /usr/local/lib/python3.7/dist-packages (from kats) (0.0.9)\n",
            "Requirement already satisfied: attrs>=21.2.0 in /usr/local/lib/python3.7/dist-packages (from kats) (21.2.0)\n",
            "Collecting ax-platform\n",
            "  Downloading ax_platform-0.2.2-py3-none-any.whl (866 kB)\n",
            "\u001b[K     |████████████████████████████████| 866 kB 62.0 MB/s \n",
            "\u001b[?25hRequirement already satisfied: convertdate>=2.1.2 in /usr/local/lib/python3.7/dist-packages (from kats) (2.3.2)\n",
            "Collecting fbprophet==0.7\n",
            "  Downloading fbprophet-0.7.tar.gz (64 kB)\n",
            "\u001b[K     |████████████████████████████████| 64 kB 2.5 MB/s \n",
            "\u001b[?25hCollecting gpytorch\n",
            "  Downloading gpytorch-1.5.1-py2.py3-none-any.whl (503 kB)\n",
            "\u001b[K     |████████████████████████████████| 503 kB 63.0 MB/s \n",
            "\u001b[?25hRequirement already satisfied: holidays>=0.10.2 in /usr/local/lib/python3.7/dist-packages (from kats) (0.10.5.2)\n",
            "Requirement already satisfied: matplotlib>=2.0.0 in /usr/local/lib/python3.7/dist-packages (from kats) (3.2.2)\n",
            "Requirement already satisfied: numpy>=1.15.4 in /usr/local/lib/python3.7/dist-packages (from kats) (1.19.5)\n",
            "Collecting numba>=0.52.0\n",
            "  Downloading numba-0.54.1-cp37-cp37m-manylinux2014_x86_64.manylinux_2_17_x86_64.whl (3.3 MB)\n",
            "\u001b[K     |████████████████████████████████| 3.3 MB 48.5 MB/s \n",
            "\u001b[?25hRequirement already satisfied: pandas>=1.0.4 in /usr/local/lib/python3.7/dist-packages (from kats) (1.1.5)\n",
            "Collecting plotly>=4.14.3\n",
            "  Downloading plotly-5.3.1-py2.py3-none-any.whl (23.9 MB)\n",
            "\u001b[K     |████████████████████████████████| 23.9 MB 14 kB/s \n",
            "\u001b[?25hCollecting pymannkendall>=1.4.1\n",
            "  Downloading pymannkendall-1.4.2-py3-none-any.whl (12 kB)\n",
            "Requirement already satisfied: pystan==2.19.1.1 in /usr/local/lib/python3.7/dist-packages (from kats) (2.19.1.1)\n",
            "Requirement already satisfied: python-dateutil>=2.8.0 in /usr/local/lib/python3.7/dist-packages (from kats) (2.8.2)\n",
            "Requirement already satisfied: scikit-learn>+0.24.2 in /usr/local/lib/python3.7/dist-packages (from kats) (0.22.2.post1)\n",
            "Requirement already satisfied: setuptools-git>=1.2 in /usr/local/lib/python3.7/dist-packages (from kats) (1.2)\n",
            "Requirement already satisfied: seaborn>=0.11.1 in /usr/local/lib/python3.7/dist-packages (from kats) (0.11.2)\n",
            "Collecting statsmodels>=0.12.2\n",
            "  Downloading statsmodels-0.13.0-cp37-cp37m-manylinux_2_17_x86_64.manylinux2014_x86_64.whl (9.8 MB)\n",
            "\u001b[K     |████████████████████████████████| 9.8 MB 41.6 MB/s \n",
            "\u001b[?25hRequirement already satisfied: torch>=1.8.1 in /usr/local/lib/python3.7/dist-packages (from kats) (1.9.0+cu111)\n",
            "Requirement already satisfied: tqdm>=4.36.1 in /usr/local/lib/python3.7/dist-packages (from kats) (4.62.3)\n",
            "Requirement already satisfied: Cython>=0.22 in /usr/local/lib/python3.7/dist-packages (from fbprophet==0.7->kats) (0.29.24)\n",
            "Requirement already satisfied: cmdstanpy==0.9.5 in /usr/local/lib/python3.7/dist-packages (from fbprophet==0.7->kats) (0.9.5)\n",
            "Requirement already satisfied: pymeeus<=1,>=0.3.13 in /usr/local/lib/python3.7/dist-packages (from convertdate>=2.1.2->kats) (0.5.11)\n",
            "Requirement already satisfied: pytz>=2014.10 in /usr/local/lib/python3.7/dist-packages (from convertdate>=2.1.2->kats) (2018.9)\n",
            "Requirement already satisfied: hijri-converter in /usr/local/lib/python3.7/dist-packages (from holidays>=0.10.2->kats) (2.2.2)\n",
            "Requirement already satisfied: six in /usr/local/lib/python3.7/dist-packages (from holidays>=0.10.2->kats) (1.15.0)\n",
            "Requirement already satisfied: korean-lunar-calendar in /usr/local/lib/python3.7/dist-packages (from holidays>=0.10.2->kats) (0.2.1)\n",
            "Requirement already satisfied: ephem>=3.7.5.3 in /usr/local/lib/python3.7/dist-packages (from LunarCalendar>=0.0.9->kats) (4.1)\n",
            "Requirement already satisfied: cycler>=0.10 in /usr/local/lib/python3.7/dist-packages (from matplotlib>=2.0.0->kats) (0.10.0)\n",
            "Requirement already satisfied: kiwisolver>=1.0.1 in /usr/local/lib/python3.7/dist-packages (from matplotlib>=2.0.0->kats) (1.3.2)\n",
            "Requirement already satisfied: pyparsing!=2.0.4,!=2.1.2,!=2.1.6,>=2.0.1 in /usr/local/lib/python3.7/dist-packages (from matplotlib>=2.0.0->kats) (2.4.7)\n",
            "Requirement already satisfied: setuptools in /usr/local/lib/python3.7/dist-packages (from numba>=0.52.0->kats) (57.4.0)\n",
            "Collecting llvmlite<0.38,>=0.37.0rc1\n",
            "  Downloading llvmlite-0.37.0-cp37-cp37m-manylinux2014_x86_64.whl (26.3 MB)\n",
            "\u001b[K     |████████████████████████████████| 26.3 MB 91 kB/s \n",
            "\u001b[?25hCollecting tenacity>=6.2.0\n",
            "  Downloading tenacity-8.0.1-py3-none-any.whl (24 kB)\n",
            "Requirement already satisfied: scipy in /usr/local/lib/python3.7/dist-packages (from pymannkendall>=1.4.1->kats) (1.4.1)\n",
            "Requirement already satisfied: joblib>=0.11 in /usr/local/lib/python3.7/dist-packages (from scikit-learn>+0.24.2->kats) (1.0.1)\n",
            "Requirement already satisfied: patsy>=0.5.2 in /usr/local/lib/python3.7/dist-packages (from statsmodels>=0.12.2->kats) (0.5.2)\n",
            "Requirement already satisfied: typing-extensions in /usr/local/lib/python3.7/dist-packages (from torch>=1.8.1->kats) (3.7.4.3)\n",
            "Collecting botorch==0.5.1\n",
            "  Downloading botorch-0.5.1-py3-none-any.whl (486 kB)\n",
            "\u001b[K     |████████████████████████████████| 486 kB 70.0 MB/s \n",
            "\u001b[?25hRequirement already satisfied: typeguard in /usr/local/lib/python3.7/dist-packages (from ax-platform->kats) (2.7.1)\n",
            "Requirement already satisfied: jinja2 in /usr/local/lib/python3.7/dist-packages (from ax-platform->kats) (2.11.3)\n",
            "Requirement already satisfied: MarkupSafe>=0.23 in /usr/local/lib/python3.7/dist-packages (from jinja2->ax-platform->kats) (2.0.1)\n",
            "Building wheels for collected packages: kats, fbprophet\n",
            "  Building wheel for kats (setup.py) ... \u001b[?25l\u001b[?25hdone\n",
            "  Created wheel for kats: filename=kats-0.1.0-py3-none-any.whl size=286607 sha256=7ceaa90105134524b136a2085a9f1d863c830c06ad5830a08908c0e0fe33de57\n",
            "  Stored in directory: /root/.cache/pip/wheels/c8/dd/5b/cc7cb7fc37c5b838c65e504437bba4c1828a3fbb473c0c11be\n",
            "  Building wheel for fbprophet (setup.py) ... \u001b[?25l\u001b[?25hdone\n",
            "  Created wheel for fbprophet: filename=fbprophet-0.7-py3-none-any.whl size=6637600 sha256=6d800645a7cf5bf8071cf4a092382941ef7d200902c165a3b0afee17ac838e7c\n",
            "  Stored in directory: /root/.cache/pip/wheels/82/e8/a8/53f37f0a409bc51f8693e967dcce8f88bfd33632b40a594a28\n",
            "Successfully built kats fbprophet\n",
            "Installing collected packages: tenacity, gpytorch, plotly, llvmlite, botorch, statsmodels, pymannkendall, numba, fbprophet, ax-platform, kats\n",
            "  Attempting uninstall: plotly\n",
            "    Found existing installation: plotly 4.4.1\n",
            "    Uninstalling plotly-4.4.1:\n",
            "      Successfully uninstalled plotly-4.4.1\n",
            "  Attempting uninstall: llvmlite\n",
            "    Found existing installation: llvmlite 0.34.0\n",
            "    Uninstalling llvmlite-0.34.0:\n",
            "      Successfully uninstalled llvmlite-0.34.0\n",
            "  Attempting uninstall: statsmodels\n",
            "    Found existing installation: statsmodels 0.10.2\n",
            "    Uninstalling statsmodels-0.10.2:\n",
            "      Successfully uninstalled statsmodels-0.10.2\n",
            "  Attempting uninstall: numba\n",
            "    Found existing installation: numba 0.51.2\n",
            "    Uninstalling numba-0.51.2:\n",
            "      Successfully uninstalled numba-0.51.2\n",
            "  Attempting uninstall: fbprophet\n",
            "    Found existing installation: fbprophet 0.7.1\n",
            "    Uninstalling fbprophet-0.7.1:\n",
            "      Successfully uninstalled fbprophet-0.7.1\n",
            "Successfully installed ax-platform-0.2.2 botorch-0.5.1 fbprophet-0.7 gpytorch-1.5.1 kats-0.1.0 llvmlite-0.37.0 numba-0.54.1 plotly-5.3.1 pymannkendall-1.4.2 statsmodels-0.13.0 tenacity-8.0.1\n"
          ]
        }
      ]
    },
    {
      "cell_type": "code",
      "metadata": {
        "id": "k5BcHyy_Iu-f"
      },
      "source": [
        "import pandas as pd\n",
        "import numpy as np"
      ],
      "execution_count": null,
      "outputs": []
    },
    {
      "cell_type": "code",
      "metadata": {
        "colab": {
          "base_uri": "https://localhost:8080/",
          "height": 206
        },
        "id": "Cf7CR3f0I1Q-",
        "outputId": "fa8a3b8d-1bc1-49c7-8991-d68b7394bbdd"
      },
      "source": [
        "df = pd.read_csv(\"https://raw.githubusercontent.com/nytimes/covid-19-data/master/us-states.csv\")\n",
        "df.head()"
      ],
      "execution_count": null,
      "outputs": [
        {
          "output_type": "execute_result",
          "data": {
            "text/html": [
              "<div>\n",
              "<style scoped>\n",
              "    .dataframe tbody tr th:only-of-type {\n",
              "        vertical-align: middle;\n",
              "    }\n",
              "\n",
              "    .dataframe tbody tr th {\n",
              "        vertical-align: top;\n",
              "    }\n",
              "\n",
              "    .dataframe thead th {\n",
              "        text-align: right;\n",
              "    }\n",
              "</style>\n",
              "<table border=\"1\" class=\"dataframe\">\n",
              "  <thead>\n",
              "    <tr style=\"text-align: right;\">\n",
              "      <th></th>\n",
              "      <th>date</th>\n",
              "      <th>state</th>\n",
              "      <th>fips</th>\n",
              "      <th>cases</th>\n",
              "      <th>deaths</th>\n",
              "    </tr>\n",
              "  </thead>\n",
              "  <tbody>\n",
              "    <tr>\n",
              "      <th>0</th>\n",
              "      <td>2020-01-21</td>\n",
              "      <td>Washington</td>\n",
              "      <td>53</td>\n",
              "      <td>1</td>\n",
              "      <td>0</td>\n",
              "    </tr>\n",
              "    <tr>\n",
              "      <th>1</th>\n",
              "      <td>2020-01-22</td>\n",
              "      <td>Washington</td>\n",
              "      <td>53</td>\n",
              "      <td>1</td>\n",
              "      <td>0</td>\n",
              "    </tr>\n",
              "    <tr>\n",
              "      <th>2</th>\n",
              "      <td>2020-01-23</td>\n",
              "      <td>Washington</td>\n",
              "      <td>53</td>\n",
              "      <td>1</td>\n",
              "      <td>0</td>\n",
              "    </tr>\n",
              "    <tr>\n",
              "      <th>3</th>\n",
              "      <td>2020-01-24</td>\n",
              "      <td>Illinois</td>\n",
              "      <td>17</td>\n",
              "      <td>1</td>\n",
              "      <td>0</td>\n",
              "    </tr>\n",
              "    <tr>\n",
              "      <th>4</th>\n",
              "      <td>2020-01-24</td>\n",
              "      <td>Washington</td>\n",
              "      <td>53</td>\n",
              "      <td>1</td>\n",
              "      <td>0</td>\n",
              "    </tr>\n",
              "  </tbody>\n",
              "</table>\n",
              "</div>"
            ],
            "text/plain": [
              "         date       state  fips  cases  deaths\n",
              "0  2020-01-21  Washington    53      1       0\n",
              "1  2020-01-22  Washington    53      1       0\n",
              "2  2020-01-23  Washington    53      1       0\n",
              "3  2020-01-24    Illinois    17      1       0\n",
              "4  2020-01-24  Washington    53      1       0"
            ]
          },
          "metadata": {},
          "execution_count": 3
        }
      ]
    },
    {
      "cell_type": "code",
      "metadata": {
        "id": "su3LCPBlI1O0"
      },
      "source": [
        "df_vermont = df[df['state'] == 'Vermont']"
      ],
      "execution_count": null,
      "outputs": []
    },
    {
      "cell_type": "code",
      "metadata": {
        "colab": {
          "base_uri": "https://localhost:8080/",
          "height": 363
        },
        "id": "miG3_HyjI1Mk",
        "outputId": "8c816b9f-8bae-461b-cf6a-be3160c791a1"
      },
      "source": [
        "df_vermont.head(10)"
      ],
      "execution_count": null,
      "outputs": [
        {
          "output_type": "execute_result",
          "data": {
            "text/html": [
              "<div>\n",
              "<style scoped>\n",
              "    .dataframe tbody tr th:only-of-type {\n",
              "        vertical-align: middle;\n",
              "    }\n",
              "\n",
              "    .dataframe tbody tr th {\n",
              "        vertical-align: top;\n",
              "    }\n",
              "\n",
              "    .dataframe thead th {\n",
              "        text-align: right;\n",
              "    }\n",
              "</style>\n",
              "<table border=\"1\" class=\"dataframe\">\n",
              "  <thead>\n",
              "    <tr style=\"text-align: right;\">\n",
              "      <th></th>\n",
              "      <th>date</th>\n",
              "      <th>state</th>\n",
              "      <th>fips</th>\n",
              "      <th>cases</th>\n",
              "      <th>deaths</th>\n",
              "    </tr>\n",
              "  </thead>\n",
              "  <tbody>\n",
              "    <tr>\n",
              "      <th>379</th>\n",
              "      <td>2020-03-07</td>\n",
              "      <td>Vermont</td>\n",
              "      <td>50</td>\n",
              "      <td>1</td>\n",
              "      <td>0</td>\n",
              "    </tr>\n",
              "    <tr>\n",
              "      <th>414</th>\n",
              "      <td>2020-03-08</td>\n",
              "      <td>Vermont</td>\n",
              "      <td>50</td>\n",
              "      <td>1</td>\n",
              "      <td>0</td>\n",
              "    </tr>\n",
              "    <tr>\n",
              "      <th>451</th>\n",
              "      <td>2020-03-09</td>\n",
              "      <td>Vermont</td>\n",
              "      <td>50</td>\n",
              "      <td>1</td>\n",
              "      <td>0</td>\n",
              "    </tr>\n",
              "    <tr>\n",
              "      <th>490</th>\n",
              "      <td>2020-03-10</td>\n",
              "      <td>Vermont</td>\n",
              "      <td>50</td>\n",
              "      <td>1</td>\n",
              "      <td>0</td>\n",
              "    </tr>\n",
              "    <tr>\n",
              "      <th>534</th>\n",
              "      <td>2020-03-11</td>\n",
              "      <td>Vermont</td>\n",
              "      <td>50</td>\n",
              "      <td>2</td>\n",
              "      <td>0</td>\n",
              "    </tr>\n",
              "    <tr>\n",
              "      <th>581</th>\n",
              "      <td>2020-03-12</td>\n",
              "      <td>Vermont</td>\n",
              "      <td>50</td>\n",
              "      <td>2</td>\n",
              "      <td>0</td>\n",
              "    </tr>\n",
              "    <tr>\n",
              "      <th>632</th>\n",
              "      <td>2020-03-13</td>\n",
              "      <td>Vermont</td>\n",
              "      <td>50</td>\n",
              "      <td>2</td>\n",
              "      <td>0</td>\n",
              "    </tr>\n",
              "    <tr>\n",
              "      <th>683</th>\n",
              "      <td>2020-03-14</td>\n",
              "      <td>Vermont</td>\n",
              "      <td>50</td>\n",
              "      <td>5</td>\n",
              "      <td>0</td>\n",
              "    </tr>\n",
              "    <tr>\n",
              "      <th>736</th>\n",
              "      <td>2020-03-15</td>\n",
              "      <td>Vermont</td>\n",
              "      <td>50</td>\n",
              "      <td>8</td>\n",
              "      <td>0</td>\n",
              "    </tr>\n",
              "    <tr>\n",
              "      <th>789</th>\n",
              "      <td>2020-03-16</td>\n",
              "      <td>Vermont</td>\n",
              "      <td>50</td>\n",
              "      <td>12</td>\n",
              "      <td>0</td>\n",
              "    </tr>\n",
              "  </tbody>\n",
              "</table>\n",
              "</div>"
            ],
            "text/plain": [
              "           date    state  fips  cases  deaths\n",
              "379  2020-03-07  Vermont    50      1       0\n",
              "414  2020-03-08  Vermont    50      1       0\n",
              "451  2020-03-09  Vermont    50      1       0\n",
              "490  2020-03-10  Vermont    50      1       0\n",
              "534  2020-03-11  Vermont    50      2       0\n",
              "581  2020-03-12  Vermont    50      2       0\n",
              "632  2020-03-13  Vermont    50      2       0\n",
              "683  2020-03-14  Vermont    50      5       0\n",
              "736  2020-03-15  Vermont    50      8       0\n",
              "789  2020-03-16  Vermont    50     12       0"
            ]
          },
          "metadata": {},
          "execution_count": 5
        }
      ]
    },
    {
      "cell_type": "code",
      "metadata": {
        "colab": {
          "base_uri": "https://localhost:8080/"
        },
        "id": "tVOf1DoLI1KI",
        "outputId": "02f4cf92-f858-4d7a-aaac-fca28a2186e2"
      },
      "source": [
        "df_vermont.shape"
      ],
      "execution_count": null,
      "outputs": [
        {
          "output_type": "execute_result",
          "data": {
            "text/plain": [
              "(590, 5)"
            ]
          },
          "metadata": {},
          "execution_count": 6
        }
      ]
    },
    {
      "cell_type": "code",
      "metadata": {
        "id": "JYHlaGN4I1Hv"
      },
      "source": [
        "import matplotlib as mpl\n",
        "import matplotlib.pyplot as plt\n",
        "import numpy as np\n",
        "import os\n",
        "from datetime import datetime\n",
        "import pandas as pd\n",
        "import plotly.express as px\n",
        "\n",
        "import kats\n",
        "import warnings\n",
        "import kats.utils.time_series_parameter_tuning as tpt\n",
        "from kats.consts import ModelEnum, SearchMethodEnum, TimeSeriesData\n",
        "from kats.models.holtwinters import HoltWintersParams, HoltWintersModel\n",
        "\n",
        "from ax.core.parameter import ChoiceParameter, FixedParameter, ParameterType\n",
        "from ax.models.random.sobol import SobolGenerator\n",
        "from ax.models.random.uniform import UniformGenerator\n",
        "warnings.simplefilter(action='ignore')\n",
        "from kats.consts import TimeSeriesData\n"
      ],
      "execution_count": null,
      "outputs": []
    },
    {
      "cell_type": "code",
      "metadata": {
        "id": "dUX8xLFsI1Fi"
      },
      "source": [
        "data = [df_vermont[\"date\"], df_vermont[\"deaths\"]]\n",
        "headers = [\"date\", \"deaths\"]\n",
        "df1 = pd.concat(data, axis=1, keys=headers)"
      ],
      "execution_count": null,
      "outputs": []
    },
    {
      "cell_type": "code",
      "metadata": {
        "id": "zyZecFzeI1DG"
      },
      "source": [
        "df1 = df1[(df1['deaths'] > 0)]"
      ],
      "execution_count": null,
      "outputs": []
    },
    {
      "cell_type": "code",
      "metadata": {
        "colab": {
          "base_uri": "https://localhost:8080/"
        },
        "id": "XEpHlVRqI1A8",
        "outputId": "e7fcdba6-6915-4c31-e0a0-2925997e3917"
      },
      "source": [
        "df1.isnull().sum()\n",
        "# No null values"
      ],
      "execution_count": null,
      "outputs": [
        {
          "output_type": "execute_result",
          "data": {
            "text/plain": [
              "date      0\n",
              "deaths    0\n",
              "dtype: int64"
            ]
          },
          "metadata": {},
          "execution_count": 10
        }
      ]
    },
    {
      "cell_type": "code",
      "metadata": {
        "colab": {
          "base_uri": "https://localhost:8080/",
          "height": 423
        },
        "id": "_GebDwIjI0-x",
        "outputId": "26378127-ee62-4b4d-e012-6b435c5ee01e"
      },
      "source": [
        "df1"
      ],
      "execution_count": null,
      "outputs": [
        {
          "output_type": "execute_result",
          "data": {
            "text/html": [
              "<div>\n",
              "<style scoped>\n",
              "    .dataframe tbody tr th:only-of-type {\n",
              "        vertical-align: middle;\n",
              "    }\n",
              "\n",
              "    .dataframe tbody tr th {\n",
              "        vertical-align: top;\n",
              "    }\n",
              "\n",
              "    .dataframe thead th {\n",
              "        text-align: right;\n",
              "    }\n",
              "</style>\n",
              "<table border=\"1\" class=\"dataframe\">\n",
              "  <thead>\n",
              "    <tr style=\"text-align: right;\">\n",
              "      <th></th>\n",
              "      <th>date</th>\n",
              "      <th>deaths</th>\n",
              "    </tr>\n",
              "  </thead>\n",
              "  <tbody>\n",
              "    <tr>\n",
              "      <th>950</th>\n",
              "      <td>2020-03-19</td>\n",
              "      <td>2</td>\n",
              "    </tr>\n",
              "    <tr>\n",
              "      <th>1004</th>\n",
              "      <td>2020-03-20</td>\n",
              "      <td>2</td>\n",
              "    </tr>\n",
              "    <tr>\n",
              "      <th>1058</th>\n",
              "      <td>2020-03-21</td>\n",
              "      <td>2</td>\n",
              "    </tr>\n",
              "    <tr>\n",
              "      <th>1112</th>\n",
              "      <td>2020-03-22</td>\n",
              "      <td>2</td>\n",
              "    </tr>\n",
              "    <tr>\n",
              "      <th>1166</th>\n",
              "      <td>2020-03-23</td>\n",
              "      <td>2</td>\n",
              "    </tr>\n",
              "    <tr>\n",
              "      <th>...</th>\n",
              "      <td>...</td>\n",
              "      <td>...</td>\n",
              "    </tr>\n",
              "    <tr>\n",
              "      <th>32479</th>\n",
              "      <td>2021-10-13</td>\n",
              "      <td>340</td>\n",
              "    </tr>\n",
              "    <tr>\n",
              "      <th>32535</th>\n",
              "      <td>2021-10-14</td>\n",
              "      <td>342</td>\n",
              "    </tr>\n",
              "    <tr>\n",
              "      <th>32591</th>\n",
              "      <td>2021-10-15</td>\n",
              "      <td>343</td>\n",
              "    </tr>\n",
              "    <tr>\n",
              "      <th>32647</th>\n",
              "      <td>2021-10-16</td>\n",
              "      <td>345</td>\n",
              "    </tr>\n",
              "    <tr>\n",
              "      <th>32703</th>\n",
              "      <td>2021-10-17</td>\n",
              "      <td>345</td>\n",
              "    </tr>\n",
              "  </tbody>\n",
              "</table>\n",
              "<p>578 rows × 2 columns</p>\n",
              "</div>"
            ],
            "text/plain": [
              "             date  deaths\n",
              "950    2020-03-19       2\n",
              "1004   2020-03-20       2\n",
              "1058   2020-03-21       2\n",
              "1112   2020-03-22       2\n",
              "1166   2020-03-23       2\n",
              "...           ...     ...\n",
              "32479  2021-10-13     340\n",
              "32535  2021-10-14     342\n",
              "32591  2021-10-15     343\n",
              "32647  2021-10-16     345\n",
              "32703  2021-10-17     345\n",
              "\n",
              "[578 rows x 2 columns]"
            ]
          },
          "metadata": {},
          "execution_count": 11
        }
      ]
    },
    {
      "cell_type": "code",
      "metadata": {
        "id": "n1Wl5W0AI08m"
      },
      "source": [
        "ts = TimeSeriesData(df1,time_col_name='date',value = 'deaths')\n",
        "# creating the time series object"
      ],
      "execution_count": null,
      "outputs": []
    },
    {
      "cell_type": "code",
      "metadata": {
        "colab": {
          "base_uri": "https://localhost:8080/",
          "height": 621
        },
        "id": "SPYwxQ2iI05_",
        "outputId": "97d620f6-64d7-4136-eb2e-a2de253b7cc0"
      },
      "source": [
        "# Decomposing the time series into components\n",
        "from kats.utils.decomposition import TimeSeriesDecomposition\n",
        "\n",
        "decomposer= TimeSeriesDecomposition(ts, decomposition= 'additive',method = 'seasonal_decompose')\n",
        "results = decomposer.decomposer()\n",
        "fig = decomposer.plot()\n"
      ],
      "execution_count": null,
      "outputs": [
        {
          "output_type": "display_data",
          "data": {
            "image/png": "[encoded data removed]",
            "text/plain": [
              "<Figure size 1440x720 with 4 Axes>"
            ]
          },
          "metadata": {
            "needs_background": "light"
          }
        }
      ]
    },
    {
      "cell_type": "code",
      "metadata": {
        "colab": {
          "base_uri": "https://localhost:8080/",
          "height": 283
        },
        "id": "ModoiGnAI03w",
        "outputId": "e724806b-a936-44b4-f1cf-fa8ebf84154a"
      },
      "source": [
        "from kats.detectors.cusum_detection import CUSUMDetector\n",
        "\n",
        "cumsum_detector = CUSUMDetector(ts)\n",
        "changepoints = cumsum_detector.detector()\n",
        "print(changepoints[0][0])\n",
        "\n",
        "# Plot\n",
        "cumsum_detector.plot(changepoints)\n",
        "\n",
        "#  5th January 2021\n"
      ],
      "execution_count": null,
      "outputs": [
        {
          "output_type": "stream",
          "name": "stdout",
          "text": [
            "TimeSeriesChangePoint(start_time: 2021-01-05 00:00:00, end_time: 2021-01-05 00:00:00, confidence: 1.0)\n"
          ]
        },
        {
          "output_type": "display_data",
          "data": {
            "image/png": "[encoded data removed]",
            "text/plain": [
              "<Figure size 432x288 with 1 Axes>"
            ]
          },
          "metadata": {
            "needs_background": "light"
          }
        }
      ]
    },
    {
      "cell_type": "code",
      "metadata": {
        "colab": {
          "base_uri": "https://localhost:8080/"
        },
        "id": "P5LhHwykI01d",
        "outputId": "b93bcf93-8e4f-4c04-d39d-ca519b3141d7"
      },
      "source": [
        "from kats.detectors.outlier import OutlierDetector\n",
        "\n",
        "outlier_detector = OutlierDetector(ts, \"additive\")\n",
        "\n",
        "outlier_detector.detector()\n",
        "outliers = outlier_detector.outliers\n",
        "outliers[0]\n"
      ],
      "execution_count": null,
      "outputs": [
        {
          "output_type": "execute_result",
          "data": {
            "text/plain": [
              "[Timestamp('2020-03-22 00:00:00'),\n",
              " Timestamp('2020-03-23 00:00:00'),\n",
              " Timestamp('2020-04-15 00:00:00'),\n",
              " Timestamp('2020-04-16 00:00:00'),\n",
              " Timestamp('2020-11-29 00:00:00'),\n",
              " Timestamp('2020-12-11 00:00:00'),\n",
              " Timestamp('2020-12-12 00:00:00'),\n",
              " Timestamp('2020-12-14 00:00:00'),\n",
              " Timestamp('2020-12-16 00:00:00'),\n",
              " Timestamp('2020-12-22 00:00:00'),\n",
              " Timestamp('2020-12-24 00:00:00'),\n",
              " Timestamp('2020-12-26 00:00:00'),\n",
              " Timestamp('2021-01-03 00:00:00'),\n",
              " Timestamp('2021-01-06 00:00:00'),\n",
              " Timestamp('2021-01-07 00:00:00'),\n",
              " Timestamp('2021-01-08 00:00:00'),\n",
              " Timestamp('2021-01-11 00:00:00'),\n",
              " Timestamp('2021-01-13 00:00:00'),\n",
              " Timestamp('2021-01-14 00:00:00'),\n",
              " Timestamp('2021-01-15 00:00:00'),\n",
              " Timestamp('2021-01-19 00:00:00'),\n",
              " Timestamp('2021-04-13 00:00:00'),\n",
              " Timestamp('2021-04-15 00:00:00'),\n",
              " Timestamp('2021-04-16 00:00:00'),\n",
              " Timestamp('2021-08-17 00:00:00'),\n",
              " Timestamp('2021-08-20 00:00:00'),\n",
              " Timestamp('2021-08-27 00:00:00'),\n",
              " Timestamp('2021-09-23 00:00:00'),\n",
              " Timestamp('2021-09-29 00:00:00'),\n",
              " Timestamp('2021-10-05 00:00:00'),\n",
              " Timestamp('2021-10-09 00:00:00'),\n",
              " Timestamp('2021-10-11 00:00:00')]"
            ]
          },
          "metadata": {},
          "execution_count": 15
        }
      ]
    },
    {
      "cell_type": "code",
      "metadata": {
        "id": "u8j1dRuzIx_6"
      },
      "source": [
        "split = int(0.8*len(df1))\n",
        "train_ts = ts[0:split]\n",
        "test_ts = ts[split:]"
      ],
      "execution_count": null,
      "outputs": []
    },
    {
      "cell_type": "code",
      "metadata": {
        "id": "7aaPg6l4KyiQ"
      },
      "source": [
        "parameters_grid_search_hw = [{'name': 'trend',\n",
        "  'type': 'choice',\n",
        "  'value_type': 'str',\n",
        "  'values': ['additive', 'multiplicative']},\n",
        " {'name': 'damped',\n",
        "  'type': 'choice',\n",
        "  'value_type': 'bool',\n",
        "  'values': [True, False]},\n",
        " {'name': 'seasonal',\n",
        "  'type': 'choice',\n",
        "  'value_type': 'str',\n",
        "  'values': ['additive', 'multiplicative']},\n",
        " {'is_ordered': True,\n",
        "  'name': 'seasonal_periods',\n",
        "  'type': 'choice',\n",
        "  'value_type': 'int',\n",
        "  'values': [4, 7, 10, 14, 24, 30]}]\n"
      ],
      "execution_count": null,
      "outputs": []
    },
    {
      "cell_type": "code",
      "metadata": {
        "id": "urRPpos5Kyey"
      },
      "source": [
        "def evaluation_function_hw(params):\n",
        "    hw_params = HoltWintersParams(\n",
        "        trend = params['trend'],\n",
        "        damped = params['damped'],\n",
        "        seasonal = params['seasonal'],\n",
        "        seasonal_periods = params['seasonal_periods'])\n",
        "    model = HoltWintersModel(train_ts, hw_params)\n",
        "    model.fit()\n",
        "    model_pred = model.predict(steps=len(test_ts))\n",
        "    error = np.mean(np.abs(model_pred['fcst'].values - test_ts.value.values))\n",
        "    return error\n"
      ],
      "execution_count": null,
      "outputs": []
    },
    {
      "cell_type": "code",
      "metadata": {
        "colab": {
          "base_uri": "https://localhost:8080/"
        },
        "id": "pcpiulFoKycW",
        "outputId": "818b0eb7-63c7-4ad5-f90f-885e9876ba91"
      },
      "source": [
        "parameter_tuner_grid = tpt.SearchMethodFactory.create_search_method(\n",
        "    objective_name=\"evaluation_metric\",\n",
        "    parameters= parameters_grid_search_hw,\n",
        "    selected_search_method=SearchMethodEnum.GRID_SEARCH)"
      ],
      "execution_count": null,
      "outputs": [
        {
          "output_type": "stream",
          "name": "stderr",
          "text": [
            "[WARNING 10-18 19:49:33] ax.core.parameter: `sort_values` is not specified for `ChoiceParameter` \"trend\". Defaulting to `False` for parameters of `ParameterType` STRING. To override this behavior (or avoid this warning), specify `sort_values` during `ChoiceParameter` construction.\n",
            "[WARNING 10-18 19:49:33] ax.core.parameter: `sort_values` is not specified for `ChoiceParameter` \"damped\". Defaulting to `True` for parameters of `ParameterType` BOOL. To override this behavior (or avoid this warning), specify `sort_values` during `ChoiceParameter` construction.\n",
            "[WARNING 10-18 19:49:33] ax.core.parameter: `sort_values` is not specified for `ChoiceParameter` \"seasonal\". Defaulting to `False` for parameters of `ParameterType` STRING. To override this behavior (or avoid this warning), specify `sort_values` during `ChoiceParameter` construction.\n",
            "[WARNING 10-18 19:49:33] ax.core.parameter: `sort_values` is not specified for `ChoiceParameter` \"seasonal_periods\". Defaulting to `True` for parameters of `ParameterType` INT. To override this behavior (or avoid this warning), specify `sort_values` during `ChoiceParameter` construction.\n",
            "[WARNING 10-18 19:49:33] ax.core.parameter: `sort_values` is not specified for `ChoiceParameter` \"trend\". Defaulting to `False` for parameters of `ParameterType` STRING. To override this behavior (or avoid this warning), specify `sort_values` during `ChoiceParameter` construction.\n",
            "[WARNING 10-18 19:49:33] ax.core.parameter: `sort_values` is not specified for `ChoiceParameter` \"damped\". Defaulting to `True` for parameters of `ParameterType` BOOL. To override this behavior (or avoid this warning), specify `sort_values` during `ChoiceParameter` construction.\n",
            "[WARNING 10-18 19:49:33] ax.core.parameter: `sort_values` is not specified for `ChoiceParameter` \"seasonal\". Defaulting to `False` for parameters of `ParameterType` STRING. To override this behavior (or avoid this warning), specify `sort_values` during `ChoiceParameter` construction.\n",
            "[WARNING 10-18 19:49:33] ax.core.parameter: `sort_values` is not specified for `ChoiceParameter` \"seasonal_periods\". Defaulting to `True` for parameters of `ParameterType` INT. To override this behavior (or avoid this warning), specify `sort_values` during `ChoiceParameter` construction.\n",
            "[WARNING 10-18 19:49:33] ax.core.parameter: `sort_values` is not specified for `ChoiceParameter` \"trend\". Defaulting to `False` for parameters of `ParameterType` STRING. To override this behavior (or avoid this warning), specify `sort_values` during `ChoiceParameter` construction.\n",
            "[WARNING 10-18 19:49:33] ax.core.parameter: `sort_values` is not specified for `ChoiceParameter` \"damped\". Defaulting to `True` for parameters of `ParameterType` BOOL. To override this behavior (or avoid this warning), specify `sort_values` during `ChoiceParameter` construction.\n",
            "[WARNING 10-18 19:49:33] ax.core.parameter: `sort_values` is not specified for `ChoiceParameter` \"seasonal\". Defaulting to `False` for parameters of `ParameterType` STRING. To override this behavior (or avoid this warning), specify `sort_values` during `ChoiceParameter` construction.\n",
            "[WARNING 10-18 19:49:33] ax.core.parameter: `sort_values` is not specified for `ChoiceParameter` \"seasonal_periods\". Defaulting to `True` for parameters of `ParameterType` INT. To override this behavior (or avoid this warning), specify `sort_values` during `ChoiceParameter` construction.\n",
            "[WARNING 10-18 19:49:33] ax.core.parameter: `sort_values` is not specified for `ChoiceParameter` \"trend\". Defaulting to `False` for parameters of `ParameterType` STRING. To override this behavior (or avoid this warning), specify `sort_values` during `ChoiceParameter` construction.\n",
            "[WARNING 10-18 19:49:33] ax.core.parameter: `sort_values` is not specified for `ChoiceParameter` \"damped\". Defaulting to `True` for parameters of `ParameterType` BOOL. To override this behavior (or avoid this warning), specify `sort_values` during `ChoiceParameter` construction.\n",
            "[WARNING 10-18 19:49:33] ax.core.parameter: `sort_values` is not specified for `ChoiceParameter` \"seasonal\". Defaulting to `False` for parameters of `ParameterType` STRING. To override this behavior (or avoid this warning), specify `sort_values` during `ChoiceParameter` construction.\n",
            "[WARNING 10-18 19:49:33] ax.core.parameter: `sort_values` is not specified for `ChoiceParameter` \"seasonal_periods\". Defaulting to `True` for parameters of `ParameterType` INT. To override this behavior (or avoid this warning), specify `sort_values` during `ChoiceParameter` construction.\n"
          ]
        }
      ]
    },
    {
      "cell_type": "code",
      "metadata": {
        "colab": {
          "base_uri": "https://localhost:8080/"
        },
        "id": "9sacY09IKyaM",
        "outputId": "2265fd93-5d3e-43c8-b1d5-5693d5a58908"
      },
      "source": [
        "parameter_tuner_grid.generate_evaluate_new_parameter_values(\n",
        "    evaluation_function=evaluation_function_hw)\n",
        "parameter_tuning_results_grid = parameter_tuner_grid.list_parameter_value_scores()"
      ],
      "execution_count": null,
      "outputs": [
        {
          "output_type": "stream",
          "name": "stderr",
          "text": [
            "[WARNING 10-18 19:49:33] ax.core.parameter: `sort_values` is not specified for `ChoiceParameter` \"trend\". Defaulting to `False` for parameters of `ParameterType` STRING. To override this behavior (or avoid this warning), specify `sort_values` during `ChoiceParameter` construction.\n",
            "[WARNING 10-18 19:49:33] ax.core.parameter: `sort_values` is not specified for `ChoiceParameter` \"damped\". Defaulting to `True` for parameters of `ParameterType` BOOL. To override this behavior (or avoid this warning), specify `sort_values` during `ChoiceParameter` construction.\n",
            "[WARNING 10-18 19:49:33] ax.core.parameter: `sort_values` is not specified for `ChoiceParameter` \"seasonal\". Defaulting to `False` for parameters of `ParameterType` STRING. To override this behavior (or avoid this warning), specify `sort_values` during `ChoiceParameter` construction.\n",
            "[WARNING 10-18 19:49:33] ax.core.parameter: `sort_values` is not specified for `ChoiceParameter` \"seasonal_periods\". Defaulting to `True` for parameters of `ParameterType` INT. To override this behavior (or avoid this warning), specify `sort_values` during `ChoiceParameter` construction.\n"
          ]
        }
      ]
    },
    {
      "cell_type": "code",
      "metadata": {
        "colab": {
          "base_uri": "https://localhost:8080/",
          "height": 1000
        },
        "id": "X2vX0LoXKyYK",
        "outputId": "83f31c2f-f905-4754-baca-7d0cb25b52a9"
      },
      "source": [
        "parameter_tuning_results_grid"
      ],
      "execution_count": null,
      "outputs": [
        {
          "output_type": "execute_result",
          "data": {
            "text/html": [
              "<div>\n",
              "<style scoped>\n",
              "    .dataframe tbody tr th:only-of-type {\n",
              "        vertical-align: middle;\n",
              "    }\n",
              "\n",
              "    .dataframe tbody tr th {\n",
              "        vertical-align: top;\n",
              "    }\n",
              "\n",
              "    .dataframe thead th {\n",
              "        text-align: right;\n",
              "    }\n",
              "</style>\n",
              "<table border=\"1\" class=\"dataframe\">\n",
              "  <thead>\n",
              "    <tr style=\"text-align: right;\">\n",
              "      <th></th>\n",
              "      <th>arm_name</th>\n",
              "      <th>metric_name</th>\n",
              "      <th>mean</th>\n",
              "      <th>sem</th>\n",
              "      <th>trial_index</th>\n",
              "      <th>parameters</th>\n",
              "    </tr>\n",
              "  </thead>\n",
              "  <tbody>\n",
              "    <tr>\n",
              "      <th>0</th>\n",
              "      <td>0_0</td>\n",
              "      <td>evaluation_metric</td>\n",
              "      <td>23.491266</td>\n",
              "      <td>0.0</td>\n",
              "      <td>0</td>\n",
              "      <td>{'trend': 'additive', 'damped': False, 'season...</td>\n",
              "    </tr>\n",
              "    <tr>\n",
              "      <th>1</th>\n",
              "      <td>0_1</td>\n",
              "      <td>evaluation_metric</td>\n",
              "      <td>24.170955</td>\n",
              "      <td>0.0</td>\n",
              "      <td>0</td>\n",
              "      <td>{'trend': 'additive', 'damped': False, 'season...</td>\n",
              "    </tr>\n",
              "    <tr>\n",
              "      <th>2</th>\n",
              "      <td>0_2</td>\n",
              "      <td>evaluation_metric</td>\n",
              "      <td>22.795417</td>\n",
              "      <td>0.0</td>\n",
              "      <td>0</td>\n",
              "      <td>{'trend': 'additive', 'damped': False, 'season...</td>\n",
              "    </tr>\n",
              "    <tr>\n",
              "      <th>3</th>\n",
              "      <td>0_3</td>\n",
              "      <td>evaluation_metric</td>\n",
              "      <td>23.877646</td>\n",
              "      <td>0.0</td>\n",
              "      <td>0</td>\n",
              "      <td>{'trend': 'additive', 'damped': False, 'season...</td>\n",
              "    </tr>\n",
              "    <tr>\n",
              "      <th>4</th>\n",
              "      <td>0_4</td>\n",
              "      <td>evaluation_metric</td>\n",
              "      <td>24.015212</td>\n",
              "      <td>0.0</td>\n",
              "      <td>0</td>\n",
              "      <td>{'trend': 'additive', 'damped': False, 'season...</td>\n",
              "    </tr>\n",
              "    <tr>\n",
              "      <th>5</th>\n",
              "      <td>0_5</td>\n",
              "      <td>evaluation_metric</td>\n",
              "      <td>21.626669</td>\n",
              "      <td>0.0</td>\n",
              "      <td>0</td>\n",
              "      <td>{'trend': 'additive', 'damped': False, 'season...</td>\n",
              "    </tr>\n",
              "    <tr>\n",
              "      <th>6</th>\n",
              "      <td>0_6</td>\n",
              "      <td>evaluation_metric</td>\n",
              "      <td>22.966184</td>\n",
              "      <td>0.0</td>\n",
              "      <td>0</td>\n",
              "      <td>{'trend': 'additive', 'damped': False, 'season...</td>\n",
              "    </tr>\n",
              "    <tr>\n",
              "      <th>7</th>\n",
              "      <td>0_7</td>\n",
              "      <td>evaluation_metric</td>\n",
              "      <td>28.353285</td>\n",
              "      <td>0.0</td>\n",
              "      <td>0</td>\n",
              "      <td>{'trend': 'additive', 'damped': False, 'season...</td>\n",
              "    </tr>\n",
              "    <tr>\n",
              "      <th>8</th>\n",
              "      <td>0_8</td>\n",
              "      <td>evaluation_metric</td>\n",
              "      <td>24.791749</td>\n",
              "      <td>0.0</td>\n",
              "      <td>0</td>\n",
              "      <td>{'trend': 'additive', 'damped': False, 'season...</td>\n",
              "    </tr>\n",
              "    <tr>\n",
              "      <th>9</th>\n",
              "      <td>0_9</td>\n",
              "      <td>evaluation_metric</td>\n",
              "      <td>26.706829</td>\n",
              "      <td>0.0</td>\n",
              "      <td>0</td>\n",
              "      <td>{'trend': 'additive', 'damped': False, 'season...</td>\n",
              "    </tr>\n",
              "    <tr>\n",
              "      <th>10</th>\n",
              "      <td>0_10</td>\n",
              "      <td>evaluation_metric</td>\n",
              "      <td>22.567232</td>\n",
              "      <td>0.0</td>\n",
              "      <td>0</td>\n",
              "      <td>{'trend': 'additive', 'damped': False, 'season...</td>\n",
              "    </tr>\n",
              "    <tr>\n",
              "      <th>11</th>\n",
              "      <td>0_11</td>\n",
              "      <td>evaluation_metric</td>\n",
              "      <td>23.090142</td>\n",
              "      <td>0.0</td>\n",
              "      <td>0</td>\n",
              "      <td>{'trend': 'additive', 'damped': False, 'season...</td>\n",
              "    </tr>\n",
              "    <tr>\n",
              "      <th>12</th>\n",
              "      <td>0_12</td>\n",
              "      <td>evaluation_metric</td>\n",
              "      <td>23.907662</td>\n",
              "      <td>0.0</td>\n",
              "      <td>0</td>\n",
              "      <td>{'trend': 'additive', 'damped': True, 'seasona...</td>\n",
              "    </tr>\n",
              "    <tr>\n",
              "      <th>13</th>\n",
              "      <td>0_13</td>\n",
              "      <td>evaluation_metric</td>\n",
              "      <td>24.410120</td>\n",
              "      <td>0.0</td>\n",
              "      <td>0</td>\n",
              "      <td>{'trend': 'additive', 'damped': True, 'seasona...</td>\n",
              "    </tr>\n",
              "    <tr>\n",
              "      <th>14</th>\n",
              "      <td>0_14</td>\n",
              "      <td>evaluation_metric</td>\n",
              "      <td>23.404073</td>\n",
              "      <td>0.0</td>\n",
              "      <td>0</td>\n",
              "      <td>{'trend': 'additive', 'damped': True, 'seasona...</td>\n",
              "    </tr>\n",
              "    <tr>\n",
              "      <th>15</th>\n",
              "      <td>0_15</td>\n",
              "      <td>evaluation_metric</td>\n",
              "      <td>24.180472</td>\n",
              "      <td>0.0</td>\n",
              "      <td>0</td>\n",
              "      <td>{'trend': 'additive', 'damped': True, 'seasona...</td>\n",
              "    </tr>\n",
              "    <tr>\n",
              "      <th>16</th>\n",
              "      <td>0_16</td>\n",
              "      <td>evaluation_metric</td>\n",
              "      <td>24.256069</td>\n",
              "      <td>0.0</td>\n",
              "      <td>0</td>\n",
              "      <td>{'trend': 'additive', 'damped': True, 'seasona...</td>\n",
              "    </tr>\n",
              "    <tr>\n",
              "      <th>17</th>\n",
              "      <td>0_17</td>\n",
              "      <td>evaluation_metric</td>\n",
              "      <td>22.521593</td>\n",
              "      <td>0.0</td>\n",
              "      <td>0</td>\n",
              "      <td>{'trend': 'additive', 'damped': True, 'seasona...</td>\n",
              "    </tr>\n",
              "    <tr>\n",
              "      <th>18</th>\n",
              "      <td>0_18</td>\n",
              "      <td>evaluation_metric</td>\n",
              "      <td>23.527958</td>\n",
              "      <td>0.0</td>\n",
              "      <td>0</td>\n",
              "      <td>{'trend': 'additive', 'damped': True, 'seasona...</td>\n",
              "    </tr>\n",
              "    <tr>\n",
              "      <th>19</th>\n",
              "      <td>0_19</td>\n",
              "      <td>evaluation_metric</td>\n",
              "      <td>26.847303</td>\n",
              "      <td>0.0</td>\n",
              "      <td>0</td>\n",
              "      <td>{'trend': 'additive', 'damped': True, 'seasona...</td>\n",
              "    </tr>\n",
              "    <tr>\n",
              "      <th>20</th>\n",
              "      <td>0_20</td>\n",
              "      <td>evaluation_metric</td>\n",
              "      <td>24.008975</td>\n",
              "      <td>0.0</td>\n",
              "      <td>0</td>\n",
              "      <td>{'trend': 'additive', 'damped': True, 'seasona...</td>\n",
              "    </tr>\n",
              "    <tr>\n",
              "      <th>21</th>\n",
              "      <td>0_21</td>\n",
              "      <td>evaluation_metric</td>\n",
              "      <td>25.989426</td>\n",
              "      <td>0.0</td>\n",
              "      <td>0</td>\n",
              "      <td>{'trend': 'additive', 'damped': True, 'seasona...</td>\n",
              "    </tr>\n",
              "    <tr>\n",
              "      <th>22</th>\n",
              "      <td>0_22</td>\n",
              "      <td>evaluation_metric</td>\n",
              "      <td>23.220884</td>\n",
              "      <td>0.0</td>\n",
              "      <td>0</td>\n",
              "      <td>{'trend': 'additive', 'damped': True, 'seasona...</td>\n",
              "    </tr>\n",
              "    <tr>\n",
              "      <th>23</th>\n",
              "      <td>0_23</td>\n",
              "      <td>evaluation_metric</td>\n",
              "      <td>23.611071</td>\n",
              "      <td>0.0</td>\n",
              "      <td>0</td>\n",
              "      <td>{'trend': 'additive', 'damped': True, 'seasona...</td>\n",
              "    </tr>\n",
              "    <tr>\n",
              "      <th>24</th>\n",
              "      <td>0_24</td>\n",
              "      <td>evaluation_metric</td>\n",
              "      <td>23.529070</td>\n",
              "      <td>0.0</td>\n",
              "      <td>0</td>\n",
              "      <td>{'trend': 'multiplicative', 'damped': False, '...</td>\n",
              "    </tr>\n",
              "    <tr>\n",
              "      <th>25</th>\n",
              "      <td>0_25</td>\n",
              "      <td>evaluation_metric</td>\n",
              "      <td>24.259301</td>\n",
              "      <td>0.0</td>\n",
              "      <td>0</td>\n",
              "      <td>{'trend': 'multiplicative', 'damped': False, '...</td>\n",
              "    </tr>\n",
              "    <tr>\n",
              "      <th>26</th>\n",
              "      <td>0_26</td>\n",
              "      <td>evaluation_metric</td>\n",
              "      <td>22.816902</td>\n",
              "      <td>0.0</td>\n",
              "      <td>0</td>\n",
              "      <td>{'trend': 'multiplicative', 'damped': False, '...</td>\n",
              "    </tr>\n",
              "    <tr>\n",
              "      <th>27</th>\n",
              "      <td>0_27</td>\n",
              "      <td>evaluation_metric</td>\n",
              "      <td>23.937337</td>\n",
              "      <td>0.0</td>\n",
              "      <td>0</td>\n",
              "      <td>{'trend': 'multiplicative', 'damped': False, '...</td>\n",
              "    </tr>\n",
              "    <tr>\n",
              "      <th>28</th>\n",
              "      <td>0_28</td>\n",
              "      <td>evaluation_metric</td>\n",
              "      <td>24.086475</td>\n",
              "      <td>0.0</td>\n",
              "      <td>0</td>\n",
              "      <td>{'trend': 'multiplicative', 'damped': False, '...</td>\n",
              "    </tr>\n",
              "    <tr>\n",
              "      <th>29</th>\n",
              "      <td>0_29</td>\n",
              "      <td>evaluation_metric</td>\n",
              "      <td>21.624568</td>\n",
              "      <td>0.0</td>\n",
              "      <td>0</td>\n",
              "      <td>{'trend': 'multiplicative', 'damped': False, '...</td>\n",
              "    </tr>\n",
              "    <tr>\n",
              "      <th>30</th>\n",
              "      <td>0_30</td>\n",
              "      <td>evaluation_metric</td>\n",
              "      <td>23.273467</td>\n",
              "      <td>0.0</td>\n",
              "      <td>0</td>\n",
              "      <td>{'trend': 'multiplicative', 'damped': False, '...</td>\n",
              "    </tr>\n",
              "    <tr>\n",
              "      <th>31</th>\n",
              "      <td>0_31</td>\n",
              "      <td>evaluation_metric</td>\n",
              "      <td>26.389801</td>\n",
              "      <td>0.0</td>\n",
              "      <td>0</td>\n",
              "      <td>{'trend': 'multiplicative', 'damped': False, '...</td>\n",
              "    </tr>\n",
              "    <tr>\n",
              "      <th>32</th>\n",
              "      <td>0_32</td>\n",
              "      <td>evaluation_metric</td>\n",
              "      <td>22.386316</td>\n",
              "      <td>0.0</td>\n",
              "      <td>0</td>\n",
              "      <td>{'trend': 'multiplicative', 'damped': False, '...</td>\n",
              "    </tr>\n",
              "    <tr>\n",
              "      <th>33</th>\n",
              "      <td>0_33</td>\n",
              "      <td>evaluation_metric</td>\n",
              "      <td>27.459730</td>\n",
              "      <td>0.0</td>\n",
              "      <td>0</td>\n",
              "      <td>{'trend': 'multiplicative', 'damped': False, '...</td>\n",
              "    </tr>\n",
              "    <tr>\n",
              "      <th>34</th>\n",
              "      <td>0_34</td>\n",
              "      <td>evaluation_metric</td>\n",
              "      <td>23.348503</td>\n",
              "      <td>0.0</td>\n",
              "      <td>0</td>\n",
              "      <td>{'trend': 'multiplicative', 'damped': False, '...</td>\n",
              "    </tr>\n",
              "    <tr>\n",
              "      <th>35</th>\n",
              "      <td>0_35</td>\n",
              "      <td>evaluation_metric</td>\n",
              "      <td>23.075839</td>\n",
              "      <td>0.0</td>\n",
              "      <td>0</td>\n",
              "      <td>{'trend': 'multiplicative', 'damped': False, '...</td>\n",
              "    </tr>\n",
              "    <tr>\n",
              "      <th>36</th>\n",
              "      <td>0_36</td>\n",
              "      <td>evaluation_metric</td>\n",
              "      <td>25.158729</td>\n",
              "      <td>0.0</td>\n",
              "      <td>0</td>\n",
              "      <td>{'trend': 'multiplicative', 'damped': True, 's...</td>\n",
              "    </tr>\n",
              "    <tr>\n",
              "      <th>37</th>\n",
              "      <td>0_37</td>\n",
              "      <td>evaluation_metric</td>\n",
              "      <td>26.553287</td>\n",
              "      <td>0.0</td>\n",
              "      <td>0</td>\n",
              "      <td>{'trend': 'multiplicative', 'damped': True, 's...</td>\n",
              "    </tr>\n",
              "    <tr>\n",
              "      <th>38</th>\n",
              "      <td>0_38</td>\n",
              "      <td>evaluation_metric</td>\n",
              "      <td>26.972235</td>\n",
              "      <td>0.0</td>\n",
              "      <td>0</td>\n",
              "      <td>{'trend': 'multiplicative', 'damped': True, 's...</td>\n",
              "    </tr>\n",
              "    <tr>\n",
              "      <th>39</th>\n",
              "      <td>0_39</td>\n",
              "      <td>evaluation_metric</td>\n",
              "      <td>23.446160</td>\n",
              "      <td>0.0</td>\n",
              "      <td>0</td>\n",
              "      <td>{'trend': 'multiplicative', 'damped': True, 's...</td>\n",
              "    </tr>\n",
              "    <tr>\n",
              "      <th>40</th>\n",
              "      <td>0_40</td>\n",
              "      <td>evaluation_metric</td>\n",
              "      <td>23.587414</td>\n",
              "      <td>0.0</td>\n",
              "      <td>0</td>\n",
              "      <td>{'trend': 'multiplicative', 'damped': True, 's...</td>\n",
              "    </tr>\n",
              "    <tr>\n",
              "      <th>41</th>\n",
              "      <td>0_41</td>\n",
              "      <td>evaluation_metric</td>\n",
              "      <td>22.146142</td>\n",
              "      <td>0.0</td>\n",
              "      <td>0</td>\n",
              "      <td>{'trend': 'multiplicative', 'damped': True, 's...</td>\n",
              "    </tr>\n",
              "    <tr>\n",
              "      <th>42</th>\n",
              "      <td>0_42</td>\n",
              "      <td>evaluation_metric</td>\n",
              "      <td>24.056832</td>\n",
              "      <td>0.0</td>\n",
              "      <td>0</td>\n",
              "      <td>{'trend': 'multiplicative', 'damped': True, 's...</td>\n",
              "    </tr>\n",
              "    <tr>\n",
              "      <th>43</th>\n",
              "      <td>0_43</td>\n",
              "      <td>evaluation_metric</td>\n",
              "      <td>25.221111</td>\n",
              "      <td>0.0</td>\n",
              "      <td>0</td>\n",
              "      <td>{'trend': 'multiplicative', 'damped': True, 's...</td>\n",
              "    </tr>\n",
              "    <tr>\n",
              "      <th>44</th>\n",
              "      <td>0_44</td>\n",
              "      <td>evaluation_metric</td>\n",
              "      <td>24.305196</td>\n",
              "      <td>0.0</td>\n",
              "      <td>0</td>\n",
              "      <td>{'trend': 'multiplicative', 'damped': True, 's...</td>\n",
              "    </tr>\n",
              "    <tr>\n",
              "      <th>45</th>\n",
              "      <td>0_45</td>\n",
              "      <td>evaluation_metric</td>\n",
              "      <td>25.333156</td>\n",
              "      <td>0.0</td>\n",
              "      <td>0</td>\n",
              "      <td>{'trend': 'multiplicative', 'damped': True, 's...</td>\n",
              "    </tr>\n",
              "    <tr>\n",
              "      <th>46</th>\n",
              "      <td>0_46</td>\n",
              "      <td>evaluation_metric</td>\n",
              "      <td>23.861774</td>\n",
              "      <td>0.0</td>\n",
              "      <td>0</td>\n",
              "      <td>{'trend': 'multiplicative', 'damped': True, 's...</td>\n",
              "    </tr>\n",
              "    <tr>\n",
              "      <th>47</th>\n",
              "      <td>0_47</td>\n",
              "      <td>evaluation_metric</td>\n",
              "      <td>24.124715</td>\n",
              "      <td>0.0</td>\n",
              "      <td>0</td>\n",
              "      <td>{'trend': 'multiplicative', 'damped': True, 's...</td>\n",
              "    </tr>\n",
              "  </tbody>\n",
              "</table>\n",
              "</div>"
            ],
            "text/plain": [
              "   arm_name  ...                                         parameters\n",
              "0       0_0  ...  {'trend': 'additive', 'damped': False, 'season...\n",
              "1       0_1  ...  {'trend': 'additive', 'damped': False, 'season...\n",
              "2       0_2  ...  {'trend': 'additive', 'damped': False, 'season...\n",
              "3       0_3  ...  {'trend': 'additive', 'damped': False, 'season...\n",
              "4       0_4  ...  {'trend': 'additive', 'damped': False, 'season...\n",
              "5       0_5  ...  {'trend': 'additive', 'damped': False, 'season...\n",
              "6       0_6  ...  {'trend': 'additive', 'damped': False, 'season...\n",
              "7       0_7  ...  {'trend': 'additive', 'damped': False, 'season...\n",
              "8       0_8  ...  {'trend': 'additive', 'damped': False, 'season...\n",
              "9       0_9  ...  {'trend': 'additive', 'damped': False, 'season...\n",
              "10     0_10  ...  {'trend': 'additive', 'damped': False, 'season...\n",
              "11     0_11  ...  {'trend': 'additive', 'damped': False, 'season...\n",
              "12     0_12  ...  {'trend': 'additive', 'damped': True, 'seasona...\n",
              "13     0_13  ...  {'trend': 'additive', 'damped': True, 'seasona...\n",
              "14     0_14  ...  {'trend': 'additive', 'damped': True, 'seasona...\n",
              "15     0_15  ...  {'trend': 'additive', 'damped': True, 'seasona...\n",
              "16     0_16  ...  {'trend': 'additive', 'damped': True, 'seasona...\n",
              "17     0_17  ...  {'trend': 'additive', 'damped': True, 'seasona...\n",
              "18     0_18  ...  {'trend': 'additive', 'damped': True, 'seasona...\n",
              "19     0_19  ...  {'trend': 'additive', 'damped': True, 'seasona...\n",
              "20     0_20  ...  {'trend': 'additive', 'damped': True, 'seasona...\n",
              "21     0_21  ...  {'trend': 'additive', 'damped': True, 'seasona...\n",
              "22     0_22  ...  {'trend': 'additive', 'damped': True, 'seasona...\n",
              "23     0_23  ...  {'trend': 'additive', 'damped': True, 'seasona...\n",
              "24     0_24  ...  {'trend': 'multiplicative', 'damped': False, '...\n",
              "25     0_25  ...  {'trend': 'multiplicative', 'damped': False, '...\n",
              "26     0_26  ...  {'trend': 'multiplicative', 'damped': False, '...\n",
              "27     0_27  ...  {'trend': 'multiplicative', 'damped': False, '...\n",
              "28     0_28  ...  {'trend': 'multiplicative', 'damped': False, '...\n",
              "29     0_29  ...  {'trend': 'multiplicative', 'damped': False, '...\n",
              "30     0_30  ...  {'trend': 'multiplicative', 'damped': False, '...\n",
              "31     0_31  ...  {'trend': 'multiplicative', 'damped': False, '...\n",
              "32     0_32  ...  {'trend': 'multiplicative', 'damped': False, '...\n",
              "33     0_33  ...  {'trend': 'multiplicative', 'damped': False, '...\n",
              "34     0_34  ...  {'trend': 'multiplicative', 'damped': False, '...\n",
              "35     0_35  ...  {'trend': 'multiplicative', 'damped': False, '...\n",
              "36     0_36  ...  {'trend': 'multiplicative', 'damped': True, 's...\n",
              "37     0_37  ...  {'trend': 'multiplicative', 'damped': True, 's...\n",
              "38     0_38  ...  {'trend': 'multiplicative', 'damped': True, 's...\n",
              "39     0_39  ...  {'trend': 'multiplicative', 'damped': True, 's...\n",
              "40     0_40  ...  {'trend': 'multiplicative', 'damped': True, 's...\n",
              "41     0_41  ...  {'trend': 'multiplicative', 'damped': True, 's...\n",
              "42     0_42  ...  {'trend': 'multiplicative', 'damped': True, 's...\n",
              "43     0_43  ...  {'trend': 'multiplicative', 'damped': True, 's...\n",
              "44     0_44  ...  {'trend': 'multiplicative', 'damped': True, 's...\n",
              "45     0_45  ...  {'trend': 'multiplicative', 'damped': True, 's...\n",
              "46     0_46  ...  {'trend': 'multiplicative', 'damped': True, 's...\n",
              "47     0_47  ...  {'trend': 'multiplicative', 'damped': True, 's...\n",
              "\n",
              "[48 rows x 6 columns]"
            ]
          },
          "metadata": {},
          "execution_count": 21
        }
      ]
    },
    {
      "cell_type": "code",
      "metadata": {
        "colab": {
          "base_uri": "https://localhost:8080/"
        },
        "id": "WRqnlGciKyVl",
        "outputId": "324ec94b-4a11-45ea-873c-88ef457a61c4"
      },
      "source": [
        "min_index = parameter_tuning_results_grid['mean'].idxmin()\n",
        "min_index"
      ],
      "execution_count": null,
      "outputs": [
        {
          "output_type": "execute_result",
          "data": {
            "text/plain": [
              "29"
            ]
          },
          "metadata": {},
          "execution_count": 22
        }
      ]
    },
    {
      "cell_type": "code",
      "metadata": {
        "id": "S4YWe2QAKyTV"
      },
      "source": [
        "values = parameter_tuning_results_grid.iloc[min_index].parameters\n",
        "values"
      ],
      "execution_count": null,
      "outputs": []
    },
    {
      "cell_type": "code",
      "metadata": {
        "colab": {
          "base_uri": "https://localhost:8080/",
          "height": 996
        },
        "id": "herpaNMFKyRE",
        "outputId": "4a892012-243e-418f-d2b8-bc18ea014694"
      },
      "source": [
        "params = HoltWintersParams(trend = 'multiplicative',seasonal = 'additive',\n",
        "  damped = False ,seasonal_periods = 30)\n",
        "hw = HoltWintersModel(ts,params)\n",
        "hw_fit = hw.fit()\n",
        "prediction = hw.predict(30)\n",
        "plot = hw.plot()\n",
        "print(prediction)\n",
        "print(plot)\n"
      ],
      "execution_count": null,
      "outputs": [
        {
          "output_type": "stream",
          "name": "stdout",
          "text": [
            "          time        fcst\n",
            "578 2021-10-18  346.665535\n",
            "579 2021-10-19  348.358887\n",
            "580 2021-10-20  349.843760\n",
            "581 2021-10-21  351.173009\n",
            "582 2021-10-22  352.610992\n",
            "583 2021-10-23  354.473750\n",
            "584 2021-10-24  356.127634\n",
            "585 2021-10-25  357.573418\n",
            "586 2021-10-26  359.391196\n",
            "587 2021-10-27  361.000373\n",
            "588 2021-10-28  362.559208\n",
            "589 2021-10-29  364.279444\n",
            "590 2021-10-30  365.791065\n",
            "591 2021-10-31  367.411947\n",
            "592 2021-11-01  369.246670\n",
            "593 2021-11-02  370.714758\n",
            "594 2021-11-03  372.501918\n",
            "595 2021-11-04  373.974937\n",
            "596 2021-11-05  375.503395\n",
            "597 2021-11-06  377.034954\n",
            "598 2021-11-07  378.990552\n",
            "599 2021-11-08  380.790064\n",
            "600 2021-11-09  382.119561\n",
            "601 2021-11-10  384.023899\n",
            "602 2021-11-11  385.831359\n",
            "603 2021-11-12  387.340014\n",
            "604 2021-11-13  388.851377\n",
            "605 2021-11-14  390.615943\n",
            "606 2021-11-15  392.433245\n",
            "607 2021-11-16  394.102756\n",
            "None\n"
          ]
        },
        {
          "output_type": "display_data",
          "data": {
            "image/png": "[encoded data removed]",
            "text/plain": [
              "<Figure size 720x432 with 1 Axes>"
            ]
          },
          "metadata": {}
        }
      ]
    },
    {
      "cell_type": "code",
      "metadata": {
        "id": "yULfRD3Y8YiP"
      },
      "source": [
        "from kats.utils.backtesters import BackTesterSimple"
      ],
      "execution_count": null,
      "outputs": []
    },
    {
      "cell_type": "code",
      "metadata": {
        "id": "BdDEBo878Yep"
      },
      "source": [
        "params = HoltWintersParams(damped = True, seasonal = 'multiplicative',seasonal_periods = 30 ,trend = 'additive')\n",
        "ALL_ERRORS = ['mape', 'smape', 'mae', 'mase', 'mse', 'rmse']\n",
        "\n",
        "backtester_hw = BackTesterSimple(\n",
        "    error_methods=ALL_ERRORS,\n",
        "    data=ts,\n",
        "    params=params,\n",
        "    train_percentage=80,\n",
        "    test_percentage=20, \n",
        "    model_class=HoltWintersModel)\n",
        "\n",
        "backtester_hw.run_backtest()\n"
      ],
      "execution_count": null,
      "outputs": []
    },
    {
      "cell_type": "code",
      "metadata": {
        "id": "hFu7OP4D8Yb-"
      },
      "source": [
        "backtester_errors = {}"
      ],
      "execution_count": null,
      "outputs": []
    },
    {
      "cell_type": "code",
      "metadata": {
        "id": "yrVj91nI8YZT"
      },
      "source": [
        "backtester_errors['HoltWinters'] = {}\n",
        "for error, value in backtester_hw.errors.items():\n",
        "    backtester_errors['HoltWinters'][error] = value\n"
      ],
      "execution_count": null,
      "outputs": []
    },
    {
      "cell_type": "code",
      "metadata": {
        "colab": {
          "base_uri": "https://localhost:8080/",
          "height": 237
        },
        "id": "eR8_A4gX8_Yt",
        "outputId": "99be8d3e-07ac-45cd-fab7-98c6e8b3036e"
      },
      "source": [
        "pd.DataFrame.from_dict(backtester_errors)"
      ],
      "execution_count": null,
      "outputs": [
        {
          "output_type": "execute_result",
          "data": {
            "text/html": [
              "<div>\n",
              "<style scoped>\n",
              "    .dataframe tbody tr th:only-of-type {\n",
              "        vertical-align: middle;\n",
              "    }\n",
              "\n",
              "    .dataframe tbody tr th {\n",
              "        vertical-align: top;\n",
              "    }\n",
              "\n",
              "    .dataframe thead th {\n",
              "        text-align: right;\n",
              "    }\n",
              "</style>\n",
              "<table border=\"1\" class=\"dataframe\">\n",
              "  <thead>\n",
              "    <tr style=\"text-align: right;\">\n",
              "      <th></th>\n",
              "      <th>HoltWinters</th>\n",
              "    </tr>\n",
              "  </thead>\n",
              "  <tbody>\n",
              "    <tr>\n",
              "      <th>mae</th>\n",
              "      <td>23.054572</td>\n",
              "    </tr>\n",
              "    <tr>\n",
              "      <th>mape</th>\n",
              "      <td>0.075054</td>\n",
              "    </tr>\n",
              "    <tr>\n",
              "      <th>mase</th>\n",
              "      <td>41.843140</td>\n",
              "    </tr>\n",
              "    <tr>\n",
              "      <th>mse</th>\n",
              "      <td>1198.711536</td>\n",
              "    </tr>\n",
              "    <tr>\n",
              "      <th>rmse</th>\n",
              "      <td>34.622414</td>\n",
              "    </tr>\n",
              "    <tr>\n",
              "      <th>smape</th>\n",
              "      <td>0.081546</td>\n",
              "    </tr>\n",
              "  </tbody>\n",
              "</table>\n",
              "</div>"
            ],
            "text/plain": [
              "       HoltWinters\n",
              "mae      23.054572\n",
              "mape      0.075054\n",
              "mase     41.843140\n",
              "mse    1198.711536\n",
              "rmse     34.622414\n",
              "smape     0.081546"
            ]
          },
          "metadata": {},
          "execution_count": 33
        }
      ]
    },
    {
      "cell_type": "code",
      "metadata": {
        "id": "CXzD9WtV9Xpg"
      },
      "source": [
        ""
      ],
      "execution_count": null,
      "outputs": []
    }
  ]
}